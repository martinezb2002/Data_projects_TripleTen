{
 "cells": [
  {
   "cell_type": "markdown",
   "metadata": {},
   "source": [
    "# Intro"
   ]
  },
  {
   "cell_type": "markdown",
   "metadata": {},
   "source": [
    "I am given the task of creating a model that will help the telecom operator Interconnect be able to foresee the churn of their clients. This helps them know when to start offering promotional codes and special plan offers to try and keep their business. I will begin by preprocessing the data to ensure it is complete and accurate, then I will move on to EDA. This will gain more insight on the data and hopefully provide helpful information to Interconnect. Then finally, I will build a machine learning model that will be able to predict if a customer will be leaving or staying with their company. This project will hopefully aid Interconnect with battling a negative churn rate and improve customer satisfaction as well. "
   ]
  },
  {
   "cell_type": "markdown",
   "metadata": {},
   "source": [
    "# Load the data"
   ]
  },
  {
   "cell_type": "code",
   "execution_count": 34,
   "metadata": {},
   "outputs": [],
   "source": [
    "import pandas as pd\n",
    "import numpy as np\n",
    "import seaborn as sns\n",
    "import matplotlib.pyplot as plt\n",
    "from sklearn.model_selection import train_test_split\n",
    "from sklearn.preprocessing import StandardScaler, OneHotEncoder\n",
    "from sklearn.compose import ColumnTransformer\n",
    "from sklearn.pipeline import Pipeline \n",
    "from sklearn.utils.class_weight import compute_class_weight \n",
    "from sklearn.linear_model import LogisticRegression\n",
    "from sklearn.metrics import roc_auc_score, accuracy_score \n",
    "from sklearn.ensemble import RandomForestClassifier \n",
    "import xgboost as xgb \n",
    "from sklearn.dummy import DummyClassifier "
   ]
  },
  {
   "cell_type": "code",
   "execution_count": 35,
   "metadata": {},
   "outputs": [],
   "source": [
    "# load the data \n",
    "contract = pd.read_csv('/datasets/final_provider/contract.csv')\n",
    "phone = pd.read_csv('/datasets/final_provider/phone.csv')\n",
    "personal = pd.read_csv('/datasets/final_provider/personal.csv')\n",
    "internet = pd.read_csv('/datasets/final_provider/internet.csv')"
   ]
  },
  {
   "cell_type": "markdown",
   "metadata": {},
   "source": [
    "# Preprocessing"
   ]
  },
  {
   "cell_type": "code",
   "execution_count": 36,
   "metadata": {},
   "outputs": [
    {
     "data": {
      "text/html": [
       "<div>\n",
       "<style scoped>\n",
       "    .dataframe tbody tr th:only-of-type {\n",
       "        vertical-align: middle;\n",
       "    }\n",
       "\n",
       "    .dataframe tbody tr th {\n",
       "        vertical-align: top;\n",
       "    }\n",
       "\n",
       "    .dataframe thead th {\n",
       "        text-align: right;\n",
       "    }\n",
       "</style>\n",
       "<table border=\"1\" class=\"dataframe\">\n",
       "  <thead>\n",
       "    <tr style=\"text-align: right;\">\n",
       "      <th></th>\n",
       "      <th>customerID</th>\n",
       "      <th>BeginDate</th>\n",
       "      <th>EndDate</th>\n",
       "      <th>Type</th>\n",
       "      <th>PaperlessBilling</th>\n",
       "      <th>PaymentMethod</th>\n",
       "      <th>MonthlyCharges</th>\n",
       "      <th>TotalCharges</th>\n",
       "      <th>MultipleLines</th>\n",
       "      <th>gender</th>\n",
       "      <th>SeniorCitizen</th>\n",
       "      <th>Partner</th>\n",
       "      <th>Dependents</th>\n",
       "      <th>InternetService</th>\n",
       "      <th>OnlineSecurity</th>\n",
       "      <th>OnlineBackup</th>\n",
       "      <th>DeviceProtection</th>\n",
       "      <th>TechSupport</th>\n",
       "      <th>StreamingTV</th>\n",
       "      <th>StreamingMovies</th>\n",
       "    </tr>\n",
       "  </thead>\n",
       "  <tbody>\n",
       "    <tr>\n",
       "      <th>3106</th>\n",
       "      <td>2817-LVCPP</td>\n",
       "      <td>2015-12-01</td>\n",
       "      <td>No</td>\n",
       "      <td>Two year</td>\n",
       "      <td>No</td>\n",
       "      <td>Credit card (automatic)</td>\n",
       "      <td>19.40</td>\n",
       "      <td>1023.95</td>\n",
       "      <td>No</td>\n",
       "      <td>Female</td>\n",
       "      <td>0</td>\n",
       "      <td>No</td>\n",
       "      <td>No</td>\n",
       "      <td>NaN</td>\n",
       "      <td>NaN</td>\n",
       "      <td>NaN</td>\n",
       "      <td>NaN</td>\n",
       "      <td>NaN</td>\n",
       "      <td>NaN</td>\n",
       "      <td>NaN</td>\n",
       "    </tr>\n",
       "    <tr>\n",
       "      <th>1826</th>\n",
       "      <td>6908-VVYHM</td>\n",
       "      <td>2014-09-01</td>\n",
       "      <td>No</td>\n",
       "      <td>Month-to-month</td>\n",
       "      <td>Yes</td>\n",
       "      <td>Electronic check</td>\n",
       "      <td>90.65</td>\n",
       "      <td>5931</td>\n",
       "      <td>Yes</td>\n",
       "      <td>Male</td>\n",
       "      <td>0</td>\n",
       "      <td>Yes</td>\n",
       "      <td>No</td>\n",
       "      <td>Fiber optic</td>\n",
       "      <td>No</td>\n",
       "      <td>Yes</td>\n",
       "      <td>No</td>\n",
       "      <td>No</td>\n",
       "      <td>No</td>\n",
       "      <td>Yes</td>\n",
       "    </tr>\n",
       "    <tr>\n",
       "      <th>4383</th>\n",
       "      <td>1088-CNNKB</td>\n",
       "      <td>2014-11-01</td>\n",
       "      <td>No</td>\n",
       "      <td>One year</td>\n",
       "      <td>No</td>\n",
       "      <td>Credit card (automatic)</td>\n",
       "      <td>80.00</td>\n",
       "      <td>5040.2</td>\n",
       "      <td>Yes</td>\n",
       "      <td>Male</td>\n",
       "      <td>0</td>\n",
       "      <td>Yes</td>\n",
       "      <td>No</td>\n",
       "      <td>DSL</td>\n",
       "      <td>Yes</td>\n",
       "      <td>Yes</td>\n",
       "      <td>Yes</td>\n",
       "      <td>Yes</td>\n",
       "      <td>No</td>\n",
       "      <td>Yes</td>\n",
       "    </tr>\n",
       "    <tr>\n",
       "      <th>6043</th>\n",
       "      <td>6338-AVWCY</td>\n",
       "      <td>2019-09-01</td>\n",
       "      <td>2019-12-01 00:00:00</td>\n",
       "      <td>Month-to-month</td>\n",
       "      <td>Yes</td>\n",
       "      <td>Mailed check</td>\n",
       "      <td>40.15</td>\n",
       "      <td>130.75</td>\n",
       "      <td>NaN</td>\n",
       "      <td>Male</td>\n",
       "      <td>0</td>\n",
       "      <td>No</td>\n",
       "      <td>No</td>\n",
       "      <td>DSL</td>\n",
       "      <td>No</td>\n",
       "      <td>No</td>\n",
       "      <td>Yes</td>\n",
       "      <td>No</td>\n",
       "      <td>Yes</td>\n",
       "      <td>No</td>\n",
       "    </tr>\n",
       "    <tr>\n",
       "      <th>1817</th>\n",
       "      <td>5663-QBGIS</td>\n",
       "      <td>2014-02-01</td>\n",
       "      <td>No</td>\n",
       "      <td>Two year</td>\n",
       "      <td>No</td>\n",
       "      <td>Bank transfer (automatic)</td>\n",
       "      <td>98.35</td>\n",
       "      <td>6929.4</td>\n",
       "      <td>Yes</td>\n",
       "      <td>Male</td>\n",
       "      <td>1</td>\n",
       "      <td>Yes</td>\n",
       "      <td>No</td>\n",
       "      <td>Fiber optic</td>\n",
       "      <td>No</td>\n",
       "      <td>Yes</td>\n",
       "      <td>No</td>\n",
       "      <td>No</td>\n",
       "      <td>Yes</td>\n",
       "      <td>Yes</td>\n",
       "    </tr>\n",
       "    <tr>\n",
       "      <th>2317</th>\n",
       "      <td>6770-UAYGJ</td>\n",
       "      <td>2016-01-01</td>\n",
       "      <td>No</td>\n",
       "      <td>Two year</td>\n",
       "      <td>No</td>\n",
       "      <td>Mailed check</td>\n",
       "      <td>25.25</td>\n",
       "      <td>1211.65</td>\n",
       "      <td>Yes</td>\n",
       "      <td>Female</td>\n",
       "      <td>0</td>\n",
       "      <td>Yes</td>\n",
       "      <td>Yes</td>\n",
       "      <td>NaN</td>\n",
       "      <td>NaN</td>\n",
       "      <td>NaN</td>\n",
       "      <td>NaN</td>\n",
       "      <td>NaN</td>\n",
       "      <td>NaN</td>\n",
       "      <td>NaN</td>\n",
       "    </tr>\n",
       "    <tr>\n",
       "      <th>2806</th>\n",
       "      <td>3259-QMXUN</td>\n",
       "      <td>2015-04-01</td>\n",
       "      <td>No</td>\n",
       "      <td>Two year</td>\n",
       "      <td>Yes</td>\n",
       "      <td>Electronic check</td>\n",
       "      <td>86.10</td>\n",
       "      <td>4890.5</td>\n",
       "      <td>Yes</td>\n",
       "      <td>Male</td>\n",
       "      <td>0</td>\n",
       "      <td>Yes</td>\n",
       "      <td>No</td>\n",
       "      <td>DSL</td>\n",
       "      <td>Yes</td>\n",
       "      <td>Yes</td>\n",
       "      <td>Yes</td>\n",
       "      <td>No</td>\n",
       "      <td>Yes</td>\n",
       "      <td>Yes</td>\n",
       "    </tr>\n",
       "    <tr>\n",
       "      <th>2064</th>\n",
       "      <td>7061-OVMIM</td>\n",
       "      <td>2017-08-01</td>\n",
       "      <td>No</td>\n",
       "      <td>One year</td>\n",
       "      <td>No</td>\n",
       "      <td>Bank transfer (automatic)</td>\n",
       "      <td>19.55</td>\n",
       "      <td>608.5</td>\n",
       "      <td>No</td>\n",
       "      <td>Female</td>\n",
       "      <td>0</td>\n",
       "      <td>Yes</td>\n",
       "      <td>Yes</td>\n",
       "      <td>NaN</td>\n",
       "      <td>NaN</td>\n",
       "      <td>NaN</td>\n",
       "      <td>NaN</td>\n",
       "      <td>NaN</td>\n",
       "      <td>NaN</td>\n",
       "      <td>NaN</td>\n",
       "    </tr>\n",
       "    <tr>\n",
       "      <th>6347</th>\n",
       "      <td>7718-RXDGG</td>\n",
       "      <td>2018-11-01</td>\n",
       "      <td>No</td>\n",
       "      <td>Month-to-month</td>\n",
       "      <td>Yes</td>\n",
       "      <td>Bank transfer (automatic)</td>\n",
       "      <td>68.60</td>\n",
       "      <td>1108.6</td>\n",
       "      <td>No</td>\n",
       "      <td>Male</td>\n",
       "      <td>0</td>\n",
       "      <td>Yes</td>\n",
       "      <td>No</td>\n",
       "      <td>Fiber optic</td>\n",
       "      <td>No</td>\n",
       "      <td>No</td>\n",
       "      <td>No</td>\n",
       "      <td>No</td>\n",
       "      <td>No</td>\n",
       "      <td>No</td>\n",
       "    </tr>\n",
       "    <tr>\n",
       "      <th>4642</th>\n",
       "      <td>5458-CQJTA</td>\n",
       "      <td>2014-08-01</td>\n",
       "      <td>2020-01-01 00:00:00</td>\n",
       "      <td>Two year</td>\n",
       "      <td>Yes</td>\n",
       "      <td>Bank transfer (automatic)</td>\n",
       "      <td>74.80</td>\n",
       "      <td>4820.15</td>\n",
       "      <td>No</td>\n",
       "      <td>Male</td>\n",
       "      <td>0</td>\n",
       "      <td>Yes</td>\n",
       "      <td>Yes</td>\n",
       "      <td>DSL</td>\n",
       "      <td>Yes</td>\n",
       "      <td>No</td>\n",
       "      <td>No</td>\n",
       "      <td>Yes</td>\n",
       "      <td>Yes</td>\n",
       "      <td>Yes</td>\n",
       "    </tr>\n",
       "  </tbody>\n",
       "</table>\n",
       "</div>"
      ],
      "text/plain": [
       "      customerID   BeginDate              EndDate            Type  \\\n",
       "3106  2817-LVCPP  2015-12-01                   No        Two year   \n",
       "1826  6908-VVYHM  2014-09-01                   No  Month-to-month   \n",
       "4383  1088-CNNKB  2014-11-01                   No        One year   \n",
       "6043  6338-AVWCY  2019-09-01  2019-12-01 00:00:00  Month-to-month   \n",
       "1817  5663-QBGIS  2014-02-01                   No        Two year   \n",
       "2317  6770-UAYGJ  2016-01-01                   No        Two year   \n",
       "2806  3259-QMXUN  2015-04-01                   No        Two year   \n",
       "2064  7061-OVMIM  2017-08-01                   No        One year   \n",
       "6347  7718-RXDGG  2018-11-01                   No  Month-to-month   \n",
       "4642  5458-CQJTA  2014-08-01  2020-01-01 00:00:00        Two year   \n",
       "\n",
       "     PaperlessBilling              PaymentMethod  MonthlyCharges TotalCharges  \\\n",
       "3106               No    Credit card (automatic)           19.40      1023.95   \n",
       "1826              Yes           Electronic check           90.65         5931   \n",
       "4383               No    Credit card (automatic)           80.00       5040.2   \n",
       "6043              Yes               Mailed check           40.15       130.75   \n",
       "1817               No  Bank transfer (automatic)           98.35       6929.4   \n",
       "2317               No               Mailed check           25.25      1211.65   \n",
       "2806              Yes           Electronic check           86.10       4890.5   \n",
       "2064               No  Bank transfer (automatic)           19.55        608.5   \n",
       "6347              Yes  Bank transfer (automatic)           68.60       1108.6   \n",
       "4642              Yes  Bank transfer (automatic)           74.80      4820.15   \n",
       "\n",
       "     MultipleLines  gender  SeniorCitizen Partner Dependents InternetService  \\\n",
       "3106            No  Female              0      No         No             NaN   \n",
       "1826           Yes    Male              0     Yes         No     Fiber optic   \n",
       "4383           Yes    Male              0     Yes         No             DSL   \n",
       "6043           NaN    Male              0      No         No             DSL   \n",
       "1817           Yes    Male              1     Yes         No     Fiber optic   \n",
       "2317           Yes  Female              0     Yes        Yes             NaN   \n",
       "2806           Yes    Male              0     Yes         No             DSL   \n",
       "2064            No  Female              0     Yes        Yes             NaN   \n",
       "6347            No    Male              0     Yes         No     Fiber optic   \n",
       "4642            No    Male              0     Yes        Yes             DSL   \n",
       "\n",
       "     OnlineSecurity OnlineBackup DeviceProtection TechSupport StreamingTV  \\\n",
       "3106            NaN          NaN              NaN         NaN         NaN   \n",
       "1826             No          Yes               No          No          No   \n",
       "4383            Yes          Yes              Yes         Yes          No   \n",
       "6043             No           No              Yes          No         Yes   \n",
       "1817             No          Yes               No          No         Yes   \n",
       "2317            NaN          NaN              NaN         NaN         NaN   \n",
       "2806            Yes          Yes              Yes          No         Yes   \n",
       "2064            NaN          NaN              NaN         NaN         NaN   \n",
       "6347             No           No               No          No          No   \n",
       "4642            Yes           No               No         Yes         Yes   \n",
       "\n",
       "     StreamingMovies  \n",
       "3106             NaN  \n",
       "1826             Yes  \n",
       "4383             Yes  \n",
       "6043              No  \n",
       "1817             Yes  \n",
       "2317             NaN  \n",
       "2806             Yes  \n",
       "2064             NaN  \n",
       "6347              No  \n",
       "4642             Yes  "
      ]
     },
     "execution_count": 36,
     "metadata": {},
     "output_type": "execute_result"
    }
   ],
   "source": [
    "# merging all four into one dataset \n",
    "df = contract.merge(phone, on='customerID', how='outer') \\\n",
    "            .merge(personal, on='customerID', how='outer') \\\n",
    "            .merge(internet, on='customerID', how='outer')\n",
    "df.sample(10)"
   ]
  },
  {
   "cell_type": "markdown",
   "metadata": {},
   "source": [
    "I merged all four of the data sets into one single dataframe where all information about the services and the customer is available at hand. They were joined by the 'customerID' column with an outer merge to ensure each person was included in the final dataframe. I will continue below with the preprocessing to ensure the data is correct and intact."
   ]
  },
  {
   "cell_type": "code",
   "execution_count": 37,
   "metadata": {},
   "outputs": [
    {
     "name": "stdout",
     "output_type": "stream",
     "text": [
      "<class 'pandas.core.frame.DataFrame'>\n",
      "Int64Index: 7043 entries, 0 to 7042\n",
      "Data columns (total 20 columns):\n",
      " #   Column            Non-Null Count  Dtype  \n",
      "---  ------            --------------  -----  \n",
      " 0   customerID        7043 non-null   object \n",
      " 1   BeginDate         7043 non-null   object \n",
      " 2   EndDate           7043 non-null   object \n",
      " 3   Type              7043 non-null   object \n",
      " 4   PaperlessBilling  7043 non-null   object \n",
      " 5   PaymentMethod     7043 non-null   object \n",
      " 6   MonthlyCharges    7043 non-null   float64\n",
      " 7   TotalCharges      7043 non-null   object \n",
      " 8   MultipleLines     6361 non-null   object \n",
      " 9   gender            7043 non-null   object \n",
      " 10  SeniorCitizen     7043 non-null   int64  \n",
      " 11  Partner           7043 non-null   object \n",
      " 12  Dependents        7043 non-null   object \n",
      " 13  InternetService   5517 non-null   object \n",
      " 14  OnlineSecurity    5517 non-null   object \n",
      " 15  OnlineBackup      5517 non-null   object \n",
      " 16  DeviceProtection  5517 non-null   object \n",
      " 17  TechSupport       5517 non-null   object \n",
      " 18  StreamingTV       5517 non-null   object \n",
      " 19  StreamingMovies   5517 non-null   object \n",
      "dtypes: float64(1), int64(1), object(18)\n",
      "memory usage: 1.1+ MB\n"
     ]
    }
   ],
   "source": [
    "df.info()"
   ]
  },
  {
   "cell_type": "code",
   "execution_count": 38,
   "metadata": {},
   "outputs": [
    {
     "data": {
      "text/plain": [
       "((5517, 8), (6361, 2))"
      ]
     },
     "execution_count": 38,
     "metadata": {},
     "output_type": "execute_result"
    }
   ],
   "source": [
    "# checking if the 'internet' set has less rows than the rest causing the main change in numbers \n",
    "internet.shape, phone.shape"
   ]
  },
  {
   "cell_type": "markdown",
   "metadata": {},
   "source": [
    "There doesn't appear to be any missing values from the independent dataframes, but there is undoubtedly some NaN values produces from uneven amounts of rows after being merged. That will be looked into further on how to handle those values below. Also, most are fine, but some data types need to be adjusted to better represent the information from the column and to be more aligned with the goal of the project. "
   ]
  },
  {
   "cell_type": "code",
   "execution_count": 39,
   "metadata": {},
   "outputs": [],
   "source": [
    "# correcting dtypes\n",
    "# convert to datetime\n",
    "df['BeginDate'] = pd.to_datetime(df['BeginDate'])\n",
    "df['EndDate'] = pd.to_datetime(df['EndDate'], errors='coerce') \n",
    "# convert to numeric \n",
    "df['TotalCharges'] = pd.to_numeric(df['TotalCharges'], errors='coerce')\n",
    "# converting to a string and changing '0' to 'No' and '1' to 'Yes' to make it more uniform with the rest of the columns\n",
    "df['SeniorCitizen'] = df['SeniorCitizen'].map({0: 'No', 1: 'Yes'}).astype('object') "
   ]
  },
  {
   "cell_type": "markdown",
   "metadata": {},
   "source": [
    "Verifying changes below."
   ]
  },
  {
   "cell_type": "code",
   "execution_count": 40,
   "metadata": {},
   "outputs": [
    {
     "data": {
      "text/plain": [
       "customerID                  object\n",
       "BeginDate           datetime64[ns]\n",
       "EndDate             datetime64[ns]\n",
       "Type                        object\n",
       "PaperlessBilling            object\n",
       "PaymentMethod               object\n",
       "MonthlyCharges             float64\n",
       "TotalCharges               float64\n",
       "MultipleLines               object\n",
       "gender                      object\n",
       "SeniorCitizen               object\n",
       "Partner                     object\n",
       "Dependents                  object\n",
       "InternetService             object\n",
       "OnlineSecurity              object\n",
       "OnlineBackup                object\n",
       "DeviceProtection            object\n",
       "TechSupport                 object\n",
       "StreamingTV                 object\n",
       "StreamingMovies             object\n",
       "dtype: object"
      ]
     },
     "execution_count": 40,
     "metadata": {},
     "output_type": "execute_result"
    }
   ],
   "source": [
    "df.dtypes"
   ]
  },
  {
   "cell_type": "code",
   "execution_count": 41,
   "metadata": {},
   "outputs": [
    {
     "data": {
      "text/html": [
       "<div>\n",
       "<style scoped>\n",
       "    .dataframe tbody tr th:only-of-type {\n",
       "        vertical-align: middle;\n",
       "    }\n",
       "\n",
       "    .dataframe tbody tr th {\n",
       "        vertical-align: top;\n",
       "    }\n",
       "\n",
       "    .dataframe thead th {\n",
       "        text-align: right;\n",
       "    }\n",
       "</style>\n",
       "<table border=\"1\" class=\"dataframe\">\n",
       "  <thead>\n",
       "    <tr style=\"text-align: right;\">\n",
       "      <th></th>\n",
       "      <th>customerID</th>\n",
       "      <th>BeginDate</th>\n",
       "      <th>EndDate</th>\n",
       "      <th>Type</th>\n",
       "      <th>PaperlessBilling</th>\n",
       "      <th>PaymentMethod</th>\n",
       "      <th>MonthlyCharges</th>\n",
       "      <th>TotalCharges</th>\n",
       "      <th>MultipleLines</th>\n",
       "      <th>gender</th>\n",
       "      <th>SeniorCitizen</th>\n",
       "      <th>Partner</th>\n",
       "      <th>Dependents</th>\n",
       "      <th>InternetService</th>\n",
       "      <th>OnlineSecurity</th>\n",
       "      <th>OnlineBackup</th>\n",
       "      <th>DeviceProtection</th>\n",
       "      <th>TechSupport</th>\n",
       "      <th>StreamingTV</th>\n",
       "      <th>StreamingMovies</th>\n",
       "    </tr>\n",
       "  </thead>\n",
       "  <tbody>\n",
       "    <tr>\n",
       "      <th>3068</th>\n",
       "      <td>1810-BOHSY</td>\n",
       "      <td>2015-11-01</td>\n",
       "      <td>NaT</td>\n",
       "      <td>One year</td>\n",
       "      <td>Yes</td>\n",
       "      <td>Credit card (automatic)</td>\n",
       "      <td>96.4</td>\n",
       "      <td>4911.05</td>\n",
       "      <td>Yes</td>\n",
       "      <td>Male</td>\n",
       "      <td>No</td>\n",
       "      <td>Yes</td>\n",
       "      <td>No</td>\n",
       "      <td>Fiber optic</td>\n",
       "      <td>Yes</td>\n",
       "      <td>Yes</td>\n",
       "      <td>No</td>\n",
       "      <td>No</td>\n",
       "      <td>No</td>\n",
       "      <td>Yes</td>\n",
       "    </tr>\n",
       "  </tbody>\n",
       "</table>\n",
       "</div>"
      ],
      "text/plain": [
       "      customerID  BeginDate EndDate      Type PaperlessBilling  \\\n",
       "3068  1810-BOHSY 2015-11-01     NaT  One year              Yes   \n",
       "\n",
       "                PaymentMethod  MonthlyCharges  TotalCharges MultipleLines  \\\n",
       "3068  Credit card (automatic)            96.4       4911.05           Yes   \n",
       "\n",
       "     gender SeniorCitizen Partner Dependents InternetService OnlineSecurity  \\\n",
       "3068   Male            No     Yes         No     Fiber optic            Yes   \n",
       "\n",
       "     OnlineBackup DeviceProtection TechSupport StreamingTV StreamingMovies  \n",
       "3068          Yes               No          No          No             Yes  "
      ]
     },
     "execution_count": 41,
     "metadata": {},
     "output_type": "execute_result"
    }
   ],
   "source": [
    "df.sample()"
   ]
  },
  {
   "cell_type": "markdown",
   "metadata": {},
   "source": [
    "Now that the dtypes are corrected, I will now focus on the NaN values."
   ]
  },
  {
   "cell_type": "code",
   "execution_count": 42,
   "metadata": {},
   "outputs": [
    {
     "data": {
      "text/plain": [
       "customerID             0\n",
       "BeginDate              0\n",
       "EndDate             5174\n",
       "Type                   0\n",
       "PaperlessBilling       0\n",
       "PaymentMethod          0\n",
       "MonthlyCharges         0\n",
       "TotalCharges          11\n",
       "MultipleLines        682\n",
       "gender                 0\n",
       "SeniorCitizen          0\n",
       "Partner                0\n",
       "Dependents             0\n",
       "InternetService     1526\n",
       "OnlineSecurity      1526\n",
       "OnlineBackup        1526\n",
       "DeviceProtection    1526\n",
       "TechSupport         1526\n",
       "StreamingTV         1526\n",
       "StreamingMovies     1526\n",
       "dtype: int64"
      ]
     },
     "execution_count": 42,
     "metadata": {},
     "output_type": "execute_result"
    }
   ],
   "source": [
    "df.isna().sum()"
   ]
  },
  {
   "cell_type": "markdown",
   "metadata": {},
   "source": [
    "Almost all of these NaN values are making sense as being from the a difference in rows from the merge - and the ones from 'EndDate' being the 'No' values. There are only a few from the 'TotalCharges' column that were not previously accounted for. Thankfully, none of the genuine missing values account to a large concerning amount of the set. These can be filled with the median value to maintain data integrity. I will be leaving the NaT values from the EndDate column as there would be no other good value I could fill it with that would be representative at an efficient capacity. This way, I will still be able to access the components of this column while avoiding any confusion. "
   ]
  },
  {
   "cell_type": "code",
   "execution_count": 43,
   "metadata": {},
   "outputs": [],
   "source": [
    "# filling missing values with the median \n",
    "df['TotalCharges'] = df['TotalCharges'].fillna(df['TotalCharges'].median())\n",
    "# filling with the mode\n",
    "df['MultipleLines'] = df['MultipleLines'].fillna(df['MultipleLines'].mode()[0])\n",
    "df['InternetService'] = df['InternetService'].fillna(df['InternetService'].mode()[0])\n",
    "# Logical Fill - if no internet service then it's a no for the rest of the service columns as well\n",
    "service_cols = ['OnlineSecurity', 'OnlineBackup', 'DeviceProtection', 'TechSupport', 'StreamingTV', 'StreamingMovies'] \n",
    "for col in service_cols:\n",
    "    df.loc[df['InternetService'] == 'No', col] = 'No'\n",
    "    df[col] = df[col].fillna(df[col].mode()[0]) "
   ]
  },
  {
   "cell_type": "code",
   "execution_count": 44,
   "metadata": {},
   "outputs": [
    {
     "data": {
      "text/plain": [
       "customerID             0\n",
       "BeginDate              0\n",
       "EndDate             5174\n",
       "Type                   0\n",
       "PaperlessBilling       0\n",
       "PaymentMethod          0\n",
       "MonthlyCharges         0\n",
       "TotalCharges           0\n",
       "MultipleLines          0\n",
       "gender                 0\n",
       "SeniorCitizen          0\n",
       "Partner                0\n",
       "Dependents             0\n",
       "InternetService        0\n",
       "OnlineSecurity         0\n",
       "OnlineBackup           0\n",
       "DeviceProtection       0\n",
       "TechSupport            0\n",
       "StreamingTV            0\n",
       "StreamingMovies        0\n",
       "dtype: int64"
      ]
     },
     "execution_count": 44,
     "metadata": {},
     "output_type": "execute_result"
    }
   ],
   "source": [
    "# verifying changes \n",
    "df.isna().sum()"
   ]
  },
  {
   "cell_type": "markdown",
   "metadata": {},
   "source": [
    "Missing values filled. I will now check for duplicates."
   ]
  },
  {
   "cell_type": "code",
   "execution_count": 45,
   "metadata": {},
   "outputs": [
    {
     "data": {
      "text/plain": [
       "0"
      ]
     },
     "execution_count": 45,
     "metadata": {},
     "output_type": "execute_result"
    }
   ],
   "source": [
    "df.duplicated().sum()"
   ]
  },
  {
   "cell_type": "markdown",
   "metadata": {},
   "source": [
    "Data is intact and ready for EDA. I will gather some last information then continue with the analysis."
   ]
  },
  {
   "cell_type": "code",
   "execution_count": 46,
   "metadata": {},
   "outputs": [
    {
     "data": {
      "text/plain": [
       "(7043, 20)"
      ]
     },
     "execution_count": 46,
     "metadata": {},
     "output_type": "execute_result"
    }
   ],
   "source": [
    "df.shape"
   ]
  },
  {
   "cell_type": "code",
   "execution_count": 47,
   "metadata": {},
   "outputs": [
    {
     "data": {
      "text/html": [
       "<div>\n",
       "<style scoped>\n",
       "    .dataframe tbody tr th:only-of-type {\n",
       "        vertical-align: middle;\n",
       "    }\n",
       "\n",
       "    .dataframe tbody tr th {\n",
       "        vertical-align: top;\n",
       "    }\n",
       "\n",
       "    .dataframe thead th {\n",
       "        text-align: right;\n",
       "    }\n",
       "</style>\n",
       "<table border=\"1\" class=\"dataframe\">\n",
       "  <thead>\n",
       "    <tr style=\"text-align: right;\">\n",
       "      <th></th>\n",
       "      <th>MonthlyCharges</th>\n",
       "      <th>TotalCharges</th>\n",
       "    </tr>\n",
       "  </thead>\n",
       "  <tbody>\n",
       "    <tr>\n",
       "      <th>count</th>\n",
       "      <td>7043.000000</td>\n",
       "      <td>7043.000000</td>\n",
       "    </tr>\n",
       "    <tr>\n",
       "      <th>mean</th>\n",
       "      <td>64.761692</td>\n",
       "      <td>2281.916928</td>\n",
       "    </tr>\n",
       "    <tr>\n",
       "      <th>std</th>\n",
       "      <td>30.090047</td>\n",
       "      <td>2265.270398</td>\n",
       "    </tr>\n",
       "    <tr>\n",
       "      <th>min</th>\n",
       "      <td>18.250000</td>\n",
       "      <td>18.800000</td>\n",
       "    </tr>\n",
       "    <tr>\n",
       "      <th>25%</th>\n",
       "      <td>35.500000</td>\n",
       "      <td>402.225000</td>\n",
       "    </tr>\n",
       "    <tr>\n",
       "      <th>50%</th>\n",
       "      <td>70.350000</td>\n",
       "      <td>1397.475000</td>\n",
       "    </tr>\n",
       "    <tr>\n",
       "      <th>75%</th>\n",
       "      <td>89.850000</td>\n",
       "      <td>3786.600000</td>\n",
       "    </tr>\n",
       "    <tr>\n",
       "      <th>max</th>\n",
       "      <td>118.750000</td>\n",
       "      <td>8684.800000</td>\n",
       "    </tr>\n",
       "  </tbody>\n",
       "</table>\n",
       "</div>"
      ],
      "text/plain": [
       "       MonthlyCharges  TotalCharges\n",
       "count     7043.000000   7043.000000\n",
       "mean        64.761692   2281.916928\n",
       "std         30.090047   2265.270398\n",
       "min         18.250000     18.800000\n",
       "25%         35.500000    402.225000\n",
       "50%         70.350000   1397.475000\n",
       "75%         89.850000   3786.600000\n",
       "max        118.750000   8684.800000"
      ]
     },
     "execution_count": 47,
     "metadata": {},
     "output_type": "execute_result"
    }
   ],
   "source": [
    "df.describe()"
   ]
  },
  {
   "cell_type": "code",
   "execution_count": 48,
   "metadata": {},
   "outputs": [
    {
     "data": {
      "text/html": [
       "<div>\n",
       "<style scoped>\n",
       "    .dataframe tbody tr th:only-of-type {\n",
       "        vertical-align: middle;\n",
       "    }\n",
       "\n",
       "    .dataframe tbody tr th {\n",
       "        vertical-align: top;\n",
       "    }\n",
       "\n",
       "    .dataframe thead th {\n",
       "        text-align: right;\n",
       "    }\n",
       "</style>\n",
       "<table border=\"1\" class=\"dataframe\">\n",
       "  <thead>\n",
       "    <tr style=\"text-align: right;\">\n",
       "      <th></th>\n",
       "      <th>customerID</th>\n",
       "      <th>BeginDate</th>\n",
       "      <th>EndDate</th>\n",
       "      <th>Type</th>\n",
       "      <th>PaperlessBilling</th>\n",
       "      <th>PaymentMethod</th>\n",
       "      <th>MonthlyCharges</th>\n",
       "      <th>TotalCharges</th>\n",
       "      <th>MultipleLines</th>\n",
       "      <th>gender</th>\n",
       "      <th>SeniorCitizen</th>\n",
       "      <th>Partner</th>\n",
       "      <th>Dependents</th>\n",
       "      <th>InternetService</th>\n",
       "      <th>OnlineSecurity</th>\n",
       "      <th>OnlineBackup</th>\n",
       "      <th>DeviceProtection</th>\n",
       "      <th>TechSupport</th>\n",
       "      <th>StreamingTV</th>\n",
       "      <th>StreamingMovies</th>\n",
       "    </tr>\n",
       "  </thead>\n",
       "  <tbody>\n",
       "    <tr>\n",
       "      <th>5819</th>\n",
       "      <td>3396-DKDEL</td>\n",
       "      <td>2014-04-01</td>\n",
       "      <td>NaT</td>\n",
       "      <td>Two year</td>\n",
       "      <td>Yes</td>\n",
       "      <td>Credit card (automatic)</td>\n",
       "      <td>115.15</td>\n",
       "      <td>8250.00</td>\n",
       "      <td>Yes</td>\n",
       "      <td>Female</td>\n",
       "      <td>No</td>\n",
       "      <td>Yes</td>\n",
       "      <td>Yes</td>\n",
       "      <td>Fiber optic</td>\n",
       "      <td>Yes</td>\n",
       "      <td>Yes</td>\n",
       "      <td>Yes</td>\n",
       "      <td>Yes</td>\n",
       "      <td>Yes</td>\n",
       "      <td>Yes</td>\n",
       "    </tr>\n",
       "    <tr>\n",
       "      <th>5118</th>\n",
       "      <td>7621-VPNET</td>\n",
       "      <td>2016-08-01</td>\n",
       "      <td>NaT</td>\n",
       "      <td>Month-to-month</td>\n",
       "      <td>Yes</td>\n",
       "      <td>Credit card (automatic)</td>\n",
       "      <td>85.90</td>\n",
       "      <td>3729.75</td>\n",
       "      <td>Yes</td>\n",
       "      <td>Female</td>\n",
       "      <td>No</td>\n",
       "      <td>Yes</td>\n",
       "      <td>No</td>\n",
       "      <td>Fiber optic</td>\n",
       "      <td>No</td>\n",
       "      <td>No</td>\n",
       "      <td>Yes</td>\n",
       "      <td>Yes</td>\n",
       "      <td>No</td>\n",
       "      <td>No</td>\n",
       "    </tr>\n",
       "    <tr>\n",
       "      <th>1824</th>\n",
       "      <td>0794-YVSGE</td>\n",
       "      <td>2014-02-01</td>\n",
       "      <td>NaT</td>\n",
       "      <td>Two year</td>\n",
       "      <td>No</td>\n",
       "      <td>Bank transfer (automatic)</td>\n",
       "      <td>20.30</td>\n",
       "      <td>1401.15</td>\n",
       "      <td>No</td>\n",
       "      <td>Male</td>\n",
       "      <td>No</td>\n",
       "      <td>Yes</td>\n",
       "      <td>Yes</td>\n",
       "      <td>Fiber optic</td>\n",
       "      <td>No</td>\n",
       "      <td>No</td>\n",
       "      <td>No</td>\n",
       "      <td>No</td>\n",
       "      <td>No</td>\n",
       "      <td>No</td>\n",
       "    </tr>\n",
       "    <tr>\n",
       "      <th>2162</th>\n",
       "      <td>6635-CPNUN</td>\n",
       "      <td>2017-10-01</td>\n",
       "      <td>NaT</td>\n",
       "      <td>Month-to-month</td>\n",
       "      <td>No</td>\n",
       "      <td>Credit card (automatic)</td>\n",
       "      <td>96.60</td>\n",
       "      <td>2684.35</td>\n",
       "      <td>Yes</td>\n",
       "      <td>Male</td>\n",
       "      <td>No</td>\n",
       "      <td>Yes</td>\n",
       "      <td>No</td>\n",
       "      <td>Fiber optic</td>\n",
       "      <td>No</td>\n",
       "      <td>Yes</td>\n",
       "      <td>Yes</td>\n",
       "      <td>No</td>\n",
       "      <td>Yes</td>\n",
       "      <td>No</td>\n",
       "    </tr>\n",
       "    <tr>\n",
       "      <th>6161</th>\n",
       "      <td>4343-EJVQB</td>\n",
       "      <td>2019-07-01</td>\n",
       "      <td>NaT</td>\n",
       "      <td>Month-to-month</td>\n",
       "      <td>No</td>\n",
       "      <td>Mailed check</td>\n",
       "      <td>74.35</td>\n",
       "      <td>533.60</td>\n",
       "      <td>No</td>\n",
       "      <td>Male</td>\n",
       "      <td>No</td>\n",
       "      <td>No</td>\n",
       "      <td>No</td>\n",
       "      <td>Fiber optic</td>\n",
       "      <td>Yes</td>\n",
       "      <td>No</td>\n",
       "      <td>No</td>\n",
       "      <td>No</td>\n",
       "      <td>No</td>\n",
       "      <td>No</td>\n",
       "    </tr>\n",
       "  </tbody>\n",
       "</table>\n",
       "</div>"
      ],
      "text/plain": [
       "      customerID  BeginDate EndDate            Type PaperlessBilling  \\\n",
       "5819  3396-DKDEL 2014-04-01     NaT        Two year              Yes   \n",
       "5118  7621-VPNET 2016-08-01     NaT  Month-to-month              Yes   \n",
       "1824  0794-YVSGE 2014-02-01     NaT        Two year               No   \n",
       "2162  6635-CPNUN 2017-10-01     NaT  Month-to-month               No   \n",
       "6161  4343-EJVQB 2019-07-01     NaT  Month-to-month               No   \n",
       "\n",
       "                  PaymentMethod  MonthlyCharges  TotalCharges MultipleLines  \\\n",
       "5819    Credit card (automatic)          115.15       8250.00           Yes   \n",
       "5118    Credit card (automatic)           85.90       3729.75           Yes   \n",
       "1824  Bank transfer (automatic)           20.30       1401.15            No   \n",
       "2162    Credit card (automatic)           96.60       2684.35           Yes   \n",
       "6161               Mailed check           74.35        533.60            No   \n",
       "\n",
       "      gender SeniorCitizen Partner Dependents InternetService OnlineSecurity  \\\n",
       "5819  Female            No     Yes        Yes     Fiber optic            Yes   \n",
       "5118  Female            No     Yes         No     Fiber optic             No   \n",
       "1824    Male            No     Yes        Yes     Fiber optic             No   \n",
       "2162    Male            No     Yes         No     Fiber optic             No   \n",
       "6161    Male            No      No         No     Fiber optic            Yes   \n",
       "\n",
       "     OnlineBackup DeviceProtection TechSupport StreamingTV StreamingMovies  \n",
       "5819          Yes              Yes         Yes         Yes             Yes  \n",
       "5118           No              Yes         Yes          No              No  \n",
       "1824           No               No          No          No              No  \n",
       "2162          Yes              Yes          No         Yes              No  \n",
       "6161           No               No          No          No              No  "
      ]
     },
     "execution_count": 48,
     "metadata": {},
     "output_type": "execute_result"
    }
   ],
   "source": [
    "df.sample(5)"
   ]
  },
  {
   "cell_type": "markdown",
   "metadata": {},
   "source": [
    "# EDA"
   ]
  },
  {
   "cell_type": "markdown",
   "metadata": {},
   "source": [
    "Based on the goal of this project, EDA will be geared towards understanding the relationships of different factors that may cause a customer to leave the company. "
   ]
  },
  {
   "cell_type": "code",
   "execution_count": 49,
   "metadata": {},
   "outputs": [
    {
     "data": {
      "text/plain": [
       "0    0.73463\n",
       "1    0.26537\n",
       "Name: Churn, dtype: float64"
      ]
     },
     "execution_count": 49,
     "metadata": {},
     "output_type": "execute_result"
    }
   ],
   "source": [
    "# creating a temporary DF to use and modify for EDA specifically\n",
    "eda_df = df.assign(Churn = df['EndDate'].notna().astype(int))\n",
    "eda_df['Churn'].value_counts(normalize=True) # 0 = active , 1 = churned "
   ]
  },
  {
   "cell_type": "markdown",
   "metadata": {},
   "source": [
    "This tells me that there is almost three times the amount of customers that are active compared to those that have left. The main takeaway from this information is the fact that there is a very large class imbalance. This will most definitely have an affect on the way the machine learning model will run so this will need to be addressed later. "
   ]
  },
  {
   "cell_type": "code",
   "execution_count": 50,
   "metadata": {},
   "outputs": [
    {
     "data": {
      "text/plain": [
       "<AxesSubplot:xlabel='MonthlyCharges', ylabel='Count'>"
      ]
     },
     "execution_count": 50,
     "metadata": {},
     "output_type": "execute_result"
    },
    {
     "data": {
      "image/png": "[encoded data removed]",
      "text/plain": [
       "<Figure size 640x480 with 1 Axes>"
      ]
     },
     "metadata": {},
     "output_type": "display_data"
    }
   ],
   "source": [
    "# distribution of monthly charges \n",
    "sns.histplot(eda_df['MonthlyCharges'], kde=True)"
   ]
  },
  {
   "cell_type": "markdown",
   "metadata": {},
   "source": [
    "The histogram above shows the distribution of customers that pay a certain amount monthly. it's visible that the largest amount of customers are associated with those that pay the smallest amount monthly. This suggests that majority of customers have the plans or services that cost the least amount of money. It is also worth noting that there is a secondary spike around $80 a month. Essentially, there are two main groups of customers - those that are paying less for less services, and those that are paying more who have more services with the company. "
   ]
  },
  {
   "cell_type": "code",
   "execution_count": 51,
   "metadata": {},
   "outputs": [
    {
     "data": {
      "text/plain": [
       "<AxesSubplot:xlabel='TotalCharges', ylabel='Count'>"
      ]
     },
     "execution_count": 51,
     "metadata": {},
     "output_type": "execute_result"
    },
    {
     "data": {
      "image/png": "[encoded data removed]",
      "text/plain": [
       "<Figure size 640x480 with 1 Axes>"
      ]
     },
     "metadata": {},
     "output_type": "display_data"
    }
   ],
   "source": [
    "# distribution of total charges \n",
    "sns.histplot(eda_df['TotalCharges'], kde=True) "
   ]
  },
  {
   "cell_type": "markdown",
   "metadata": {},
   "source": [
    "The above histogram is similar to the previous one in the sense that it is comparing total charges amounts and the amount of customers that fall within those categories. There is a very strong right skew, with a great majority of customers who have less total charges than those who have larger amounts. When trying to apply this information to its logical reasoning, it's natural to assume that this gives a good look at tenure with the company. If there is a client who has been with Interconnect for a long period of time, there would be a larger amount of charges that they have paid over that period. Whereas someone who just started with the company will not have as much history. The main information we can gather from this visual is that the company has many new customers, but not a lot who stay for a longer period of time. "
   ]
  },
  {
   "cell_type": "code",
   "execution_count": 52,
   "metadata": {},
   "outputs": [
    {
     "data": {
      "image/png": "[encoded data removed]",
      "text/plain": [
       "<Figure size 800x500 with 1 Axes>"
      ]
     },
     "metadata": {},
     "output_type": "display_data"
    }
   ],
   "source": [
    "# comparing churn with monthly charges \n",
    "plt.figure(figsize=(8,5))\n",
    "sns.boxplot(x=\"Churn\", y=\"MonthlyCharges\", data=eda_df)\n",
    "plt.title(\"Monthly Charges vs Churn\")\n",
    "plt.show() "
   ]
  },
  {
   "cell_type": "markdown",
   "metadata": {},
   "source": [
    "The boxplots above give us a good visual of the relationship between customers who churn and their monthly charges. Due to the plot on the right being shifted upward, we can tell that, typically, the customers who have higher charges tend to churn more often than those with lower charges. "
   ]
  },
  {
   "cell_type": "code",
   "execution_count": 53,
   "metadata": {},
   "outputs": [
    {
     "data": {
      "image/png": "[encoded data removed]",
      "text/plain": [
       "<Figure size 800x500 with 1 Axes>"
      ]
     },
     "metadata": {},
     "output_type": "display_data"
    }
   ],
   "source": [
    "# comparing churn with total charges \n",
    "plt.figure(figsize=(8,5))\n",
    "sns.boxplot(x=\"Churn\", y=\"TotalCharges\", data=eda_df)\n",
    "plt.title(\"Total Charges vs Churn\")\n",
    "plt.show() "
   ]
  },
  {
   "cell_type": "markdown",
   "metadata": {},
   "source": [
    "This plot, similar to the one above, shows the relationship between churn and total charges. Unlike the one prior to this, churn is more associated with lower total charges rather than larger totals. While this may not immediately make sense, thinking back to our distribution histogram, this may be due to the fact that there may not be as many customers who utilize the company's services long enough to obtain larger total charges. They churn earlier, making churn more associated with the lower total charges."
   ]
  },
  {
   "cell_type": "code",
   "execution_count": 54,
   "metadata": {},
   "outputs": [
    {
     "data": {
      "text/plain": [
       "Type\n",
       "Month-to-month    0.427097\n",
       "One year          0.112695\n",
       "Two year          0.028319\n",
       "Name: Churn, dtype: float64"
      ]
     },
     "execution_count": 54,
     "metadata": {},
     "output_type": "execute_result"
    }
   ],
   "source": [
    "# looking at churn rate by contract type\n",
    "eda_df.groupby('Type')['Churn'].mean()"
   ]
  },
  {
   "cell_type": "markdown",
   "metadata": {},
   "source": [
    "Customers with less commitment to the company have less incentive to stay. So these numbers are making sense. Almost half of all customers who have the month-to-month contracts end up leaving the company."
   ]
  },
  {
   "cell_type": "code",
   "execution_count": 55,
   "metadata": {},
   "outputs": [
    {
     "data": {
      "text/plain": [
       "PaymentMethod\n",
       "Bank transfer (automatic)    0.167098\n",
       "Credit card (automatic)      0.152431\n",
       "Electronic check             0.452854\n",
       "Mailed check                 0.191067\n",
       "Name: Churn, dtype: float64"
      ]
     },
     "execution_count": 55,
     "metadata": {},
     "output_type": "execute_result"
    }
   ],
   "source": [
    "# churn by payment type\n",
    "eda_df.groupby('PaymentMethod')['Churn'].mean()"
   ]
  },
  {
   "cell_type": "markdown",
   "metadata": {},
   "source": [
    "Customers who manually paid each month electronically had the highest rates of churn when compared to all of the ways a customer can submit their payments. The other three ways are similar in their contributed percentages, but those with automatic payments had the lowest amounts. "
   ]
  },
  {
   "cell_type": "code",
   "execution_count": 56,
   "metadata": {},
   "outputs": [
    {
     "data": {
      "text/plain": [
       "MultipleLines\n",
       "No     0.250246\n",
       "Yes    0.286099\n",
       "Name: Churn, dtype: float64"
      ]
     },
     "execution_count": 56,
     "metadata": {},
     "output_type": "execute_result"
    }
   ],
   "source": [
    "# churn by line count \n",
    "eda_df.groupby('MultipleLines')['Churn'].mean()"
   ]
  },
  {
   "cell_type": "markdown",
   "metadata": {},
   "source": [
    "Churn does not heavily associate with multiple or single line services. "
   ]
  },
  {
   "cell_type": "markdown",
   "metadata": {},
   "source": [
    "# ML Preparation"
   ]
  },
  {
   "cell_type": "code",
   "execution_count": 57,
   "metadata": {},
   "outputs": [],
   "source": [
    "# redefining target feature - 'Churn' - which is a binary transformation of the EndDate column to work better for ML \n",
    "df['Churn'] = df['EndDate'].notna().astype(int) # 1 = churned ; 0 = active"
   ]
  },
  {
   "cell_type": "code",
   "execution_count": 58,
   "metadata": {},
   "outputs": [],
   "source": [
    "# engineering a tenure column from BeginDate and EndDate \n",
    "df['BeginDate'] = pd.to_datetime(df['BeginDate'])\n",
    "df['TenureMonths'] = ((pd.to_datetime('today') - df['BeginDate']) / np.timedelta64(1, 'M')).astype(int)"
   ]
  },
  {
   "cell_type": "code",
   "execution_count": 59,
   "metadata": {},
   "outputs": [],
   "source": [
    "# dropping unnecessary columns \n",
    "df = df.drop(columns=['BeginDate', 'EndDate', 'customerID']) "
   ]
  },
  {
   "cell_type": "code",
   "execution_count": 60,
   "metadata": {},
   "outputs": [
    {
     "data": {
      "text/plain": [
       "Type                 object\n",
       "PaperlessBilling     object\n",
       "PaymentMethod        object\n",
       "MonthlyCharges      float64\n",
       "TotalCharges        float64\n",
       "MultipleLines        object\n",
       "gender               object\n",
       "SeniorCitizen        object\n",
       "Partner              object\n",
       "Dependents           object\n",
       "InternetService      object\n",
       "OnlineSecurity       object\n",
       "OnlineBackup         object\n",
       "DeviceProtection     object\n",
       "TechSupport          object\n",
       "StreamingTV          object\n",
       "StreamingMovies      object\n",
       "Churn                 int64\n",
       "TenureMonths          int64\n",
       "dtype: object"
      ]
     },
     "execution_count": 60,
     "metadata": {},
     "output_type": "execute_result"
    }
   ],
   "source": [
    "# checking dtypes \n",
    "df.dtypes"
   ]
  },
  {
   "cell_type": "code",
   "execution_count": 61,
   "metadata": {},
   "outputs": [],
   "source": [
    "# making sure categorical columns are all correct dtype\n",
    "cat_cols = [\n",
    "    'gender', 'Type', 'SeniorCitizen','Partner','Dependents','PhoneService',\n",
    "    'MultipleLines','InternetService','OnlineSecurity','OnlineBackup',\n",
    "    'DeviceProtection','TechSupport','StreamingTV','StreamingMovies',\n",
    "    'Contract','PaperlessBilling','PaymentMethod'\n",
    "]\n",
    "\n",
    "for c in cat_cols:\n",
    "    if c in df.columns:\n",
    "        df[c] = df[c].astype('category')"
   ]
  },
  {
   "cell_type": "markdown",
   "metadata": {},
   "source": [
    "Leaving the target column 'Churn' as int type to make training easier and to determing the AUC-ROC directly without errors. "
   ]
  },
  {
   "cell_type": "code",
   "execution_count": 62,
   "metadata": {},
   "outputs": [
    {
     "data": {
      "text/plain": [
       "Type                category\n",
       "PaperlessBilling    category\n",
       "PaymentMethod       category\n",
       "MonthlyCharges       float64\n",
       "TotalCharges         float64\n",
       "MultipleLines       category\n",
       "gender              category\n",
       "SeniorCitizen       category\n",
       "Partner             category\n",
       "Dependents          category\n",
       "InternetService     category\n",
       "OnlineSecurity      category\n",
       "OnlineBackup        category\n",
       "DeviceProtection    category\n",
       "TechSupport         category\n",
       "StreamingTV         category\n",
       "StreamingMovies     category\n",
       "Churn                  int64\n",
       "TenureMonths           int64\n",
       "dtype: object"
      ]
     },
     "execution_count": 62,
     "metadata": {},
     "output_type": "execute_result"
    }
   ],
   "source": [
    "# verifying changes \n",
    "df.dtypes"
   ]
  },
  {
   "cell_type": "markdown",
   "metadata": {},
   "source": [
    "Splitting before encoding / scaling to avoid leakage."
   ]
  },
  {
   "cell_type": "code",
   "execution_count": 63,
   "metadata": {},
   "outputs": [],
   "source": [
    "# splitting - 60train/20valid/20test\n",
    "target = df['Churn']\n",
    "features = df.drop('Churn', axis=1)\n",
    "\n",
    "features_train, features_temp, target_train, target_temp = train_test_split(features, target, test_size=0.4, stratify=target, random_state=42)\n",
    "features_valid, features_test, target_valid, target_test = train_test_split(features_temp, target_temp, test_size=0.5, stratify=target_temp, random_state=42) "
   ]
  },
  {
   "cell_type": "code",
   "execution_count": 64,
   "metadata": {},
   "outputs": [],
   "source": [
    "# identify categorical and numerical columns\n",
    "cat_cols = features.select_dtypes(include=['object', 'category']).columns.tolist()\n",
    "num_cols = features.select_dtypes(include=['int64', 'float64']).columns.tolist() "
   ]
  },
  {
   "cell_type": "code",
   "execution_count": 65,
   "metadata": {},
   "outputs": [],
   "source": [
    "# encoding and scaling \n",
    "preprocessor = ColumnTransformer(\n",
    "    transformers=[\n",
    "        ('num', StandardScaler(), num_cols),\n",
    "        ('cat', OneHotEncoder(handle_unknown='ignore'), cat_cols)])\n",
    "\n",
    "features_train_processed = preprocessor.fit_transform(features_train)\n",
    "features_valid_processed = preprocessor.transform(features_valid)\n",
    "features_test_processed = preprocessor.transform(features_test) "
   ]
  },
  {
   "cell_type": "markdown",
   "metadata": {},
   "source": [
    "We know from EDA that there is a large class imbalance. I'll first attempt to handle this with class weights (better for some models and resampling can sometimes distort the data)."
   ]
  },
  {
   "cell_type": "code",
   "execution_count": 67,
   "metadata": {},
   "outputs": [],
   "source": [
    "# handling class imbalance with class weights\n",
    "classes = np.unique(target_train)\n",
    "class_weights = compute_class_weight(class_weight='balanced', classes=classes, y=target_train)\n",
    "class_weight_dict = dict(zip(classes, class_weights)) "
   ]
  },
  {
   "cell_type": "markdown",
   "metadata": {},
   "source": [
    "Data is now prepared for model training. "
   ]
  },
  {
   "cell_type": "markdown",
   "metadata": {},
   "source": [
    "# Model Training"
   ]
  },
  {
   "cell_type": "markdown",
   "metadata": {},
   "source": [
    "The first model to be trained will be a Logistic Regression model since it will work well with the class weights, and the scaled numeric features."
   ]
  },
  {
   "cell_type": "code",
   "execution_count": 68,
   "metadata": {},
   "outputs": [
    {
     "name": "stdout",
     "output_type": "stream",
     "text": [
      "Logistic Regression - AUC-ROC: 0.8454054612622388\n",
      "Logistic Regression - Accuracy: 0.7366926898509581\n"
     ]
    }
   ],
   "source": [
    "# LR model\n",
    "lr = LogisticRegression(class_weight='balanced', max_iter=1000, random_state=42)\n",
    "lr.fit(features_train_processed, target_train)\n",
    "\n",
    "target_valid_pred_lr = lr.predict(features_valid_processed)\n",
    "target_valid_proba_lr = lr.predict_proba(features_valid_processed)[:, 1]\n",
    "\n",
    "print(\"Logistic Regression - AUC-ROC:\", roc_auc_score(target_valid, target_valid_proba_lr))\n",
    "print(\"Logistic Regression - Accuracy:\", accuracy_score(target_valid, target_valid_pred_lr)) "
   ]
  },
  {
   "cell_type": "markdown",
   "metadata": {},
   "source": [
    "This model is already performing relatively well and close to the metrics needed."
   ]
  },
  {
   "cell_type": "markdown",
   "metadata": {},
   "source": [
    "The next model will be a RandomForest model as it can be simple to tune but still works well with the given data."
   ]
  },
  {
   "cell_type": "code",
   "execution_count": 69,
   "metadata": {},
   "outputs": [
    {
     "name": "stdout",
     "output_type": "stream",
     "text": [
      "Random Forest - AUC-ROC: 0.8736237050815054\n",
      "Random Forest - Accuracy: 0.8360539389638041\n"
     ]
    }
   ],
   "source": [
    "# RF model\n",
    "rf = RandomForestClassifier(class_weight='balanced', n_estimators=200, random_state=42)\n",
    "rf.fit(features_train_processed, target_train)\n",
    "\n",
    "target_valid_pred_rf = rf.predict(features_valid_processed)\n",
    "target_valid_proba_rf = rf.predict_proba(features_valid_processed)[:, 1]\n",
    "\n",
    "print(\"Random Forest - AUC-ROC:\", roc_auc_score(target_valid, target_valid_proba_rf))\n",
    "print(\"Random Forest - Accuracy:\", accuracy_score(target_valid, target_valid_pred_rf)) "
   ]
  },
  {
   "cell_type": "markdown",
   "metadata": {},
   "source": [
    "This model has great numbers for both metrics! Let's see if we can get something even better though with this next model."
   ]
  },
  {
   "cell_type": "markdown",
   "metadata": {},
   "source": [
    "The last model I will train with will be the Gradient Boosting model. This model is great with the AUC-ROC metric and handles non-linearity well."
   ]
  },
  {
   "cell_type": "code",
   "execution_count": 70,
   "metadata": {},
   "outputs": [
    {
     "name": "stdout",
     "output_type": "stream",
     "text": [
      "XGBoost - AUC-ROC: 0.9314371334831694\n",
      "XGBoost - Accuracy: 0.8921220723917672\n"
     ]
    }
   ],
   "source": [
    "# GB model \n",
    "# compute scale_pos_weight for this specific model\n",
    "scale_pos_weight = target_train.value_counts()[0] / target_train.value_counts()[1]\n",
    "\n",
    "xgb_clf = xgb.XGBClassifier(\n",
    "    scale_pos_weight=scale_pos_weight,\n",
    "    use_label_encoder=False,\n",
    "    eval_metric='auc',\n",
    "    random_state=42) \n",
    "\n",
    "xgb_clf.fit(features_train_processed, target_train) \n",
    "\n",
    "target_valid_pred_xgb = xgb_clf.predict(features_valid_processed)\n",
    "target_valid_proba_xgb = xgb_clf.predict_proba(features_valid_processed)[:, 1]\n",
    "\n",
    "print(\"XGBoost - AUC-ROC:\", roc_auc_score(target_valid, target_valid_proba_xgb))\n",
    "print(\"XGBoost - Accuracy:\", accuracy_score(target_valid, target_valid_pred_xgb)) "
   ]
  },
  {
   "cell_type": "markdown",
   "metadata": {},
   "source": [
    "The Gradient Boosting model far exceeded the criteria for both metrics! This will be the model moving on to final testing."
   ]
  },
  {
   "cell_type": "markdown",
   "metadata": {},
   "source": [
    "# Final Testing"
   ]
  },
  {
   "cell_type": "code",
   "execution_count": 71,
   "metadata": {},
   "outputs": [
    {
     "name": "stdout",
     "output_type": "stream",
     "text": [
      "Final Test AUC-ROC: 0.9120\n",
      "Final Test Accuracy: 0.8652\n"
     ]
    }
   ],
   "source": [
    "# GB final testing on test set \n",
    "target_test_proba_final = xgb_clf.predict_proba(features_test_processed)[:, 1] \n",
    "target_test_pred_final = xgb_clf.predict(features_test_processed)               \n",
    "\n",
    "test_auc = roc_auc_score(target_test, target_test_proba_final)\n",
    "test_acc = accuracy_score(target_test, target_test_pred_final)\n",
    "\n",
    "print(f\"Final Test AUC-ROC: {test_auc:.4f}\")\n",
    "print(f\"Final Test Accuracy: {test_acc:.4f}\") "
   ]
  },
  {
   "cell_type": "markdown",
   "metadata": {},
   "source": [
    "The model is performing well and meets requirements. Although there is a small drop in AUC-ROC and accuracy, that is normal and likely due to randomness and new patterns that have yet to be seen by the model. But overall, the model generalizes well and predicts at a high level. "
   ]
  },
  {
   "cell_type": "markdown",
   "metadata": {},
   "source": [
    "# Sanity Check"
   ]
  },
  {
   "cell_type": "code",
   "execution_count": 73,
   "metadata": {},
   "outputs": [
    {
     "name": "stdout",
     "output_type": "stream",
     "text": [
      "Train class distribution:\n",
      " 0    0.734675\n",
      "1    0.265325\n",
      "Name: Churn, dtype: float64\n",
      "Validation class distribution:\n",
      " 0    0.734564\n",
      "1    0.265436\n",
      "Name: Churn, dtype: float64\n",
      "Test class distribution:\n",
      " 0    0.734564\n",
      "1    0.265436\n",
      "Name: Churn, dtype: float64\n"
     ]
    }
   ],
   "source": [
    "# checking the class balances between the splits\n",
    "print(\"Train class distribution:\\n\", target_train.value_counts(normalize=True))\n",
    "print(\"Validation class distribution:\\n\", target_valid.value_counts(normalize=True))\n",
    "print(\"Test class distribution:\\n\", target_test.value_counts(normalize=True)) "
   ]
  },
  {
   "cell_type": "markdown",
   "metadata": {},
   "source": [
    "The splits maintained their proportions."
   ]
  },
  {
   "cell_type": "code",
   "execution_count": 74,
   "metadata": {},
   "outputs": [
    {
     "name": "stdout",
     "output_type": "stream",
     "text": [
      "Sample predicted probabilities: [0.03956183 0.22082548 0.0900748  0.5175655  0.01045945]\n",
      "Sample predicted labels: [0 0 0 1 0]\n",
      "Unique labels: [0 1]\n"
     ]
    }
   ],
   "source": [
    "# checking prediction outputs \n",
    "print(\"Sample predicted probabilities:\", target_test_proba_final[:5])\n",
    "print(\"Sample predicted labels:\", target_test_pred_final[:5])\n",
    "print(\"Unique labels:\", np.unique(target_test_pred_final)) "
   ]
  },
  {
   "cell_type": "markdown",
   "metadata": {},
   "source": [
    "The model isn't producing unexpected values and is predicting confidently and accurately. The model is performing well."
   ]
  },
  {
   "cell_type": "code",
   "execution_count": 75,
   "metadata": {},
   "outputs": [
    {
     "name": "stdout",
     "output_type": "stream",
     "text": [
      "Dummy Accuracy: 0.7345635202271115\n",
      "Dummy AUC-ROC: 0.5\n"
     ]
    }
   ],
   "source": [
    "# comparing against a dummy classifier \n",
    "dummy = DummyClassifier(strategy=\"most_frequent\")\n",
    "dummy.fit(features_train_processed, target_train)\n",
    "dummy_pred = dummy.predict(features_test_processed)\n",
    "dummy_auc = roc_auc_score(target_test, [0.5]*len(target_test)) \n",
    "dummy_acc = accuracy_score(target_test, dummy_pred)\n",
    "\n",
    "print(\"Dummy Accuracy:\", dummy_acc)\n",
    "print(\"Dummy AUC-ROC:\", dummy_auc) "
   ]
  },
  {
   "cell_type": "markdown",
   "metadata": {},
   "source": [
    "The model does much better than the dummy model which indicates that the model is genuinely learning the features patterns and predicting beyond the majority class. This tells us it will do great with any future unseen data. "
   ]
  },
  {
   "cell_type": "markdown",
   "metadata": {},
   "source": [
    "# Conclusion"
   ]
  },
  {
   "cell_type": "markdown",
   "metadata": {},
   "source": [
    "The goal of this project was to create a ML model that would be able to assist Interconnect with forecasting the churn of their clients. When loading the data given with this task, there were only a few things to address. The files were merged into one dataset, then I addressed any and all missing values, data type inaccuracies, and duplicates. After quick clean up, I was ready to move on to EDA. Here, I focused on uncovering relationships and different factors that may be contributing to churn. I looked into the distribution of charges that clients were paying both montly and as a total. I also looked at the connections between those distributions and churn. It was found that there were mainly either clients who had the bare minimum with the company or those that had majority of services. It was also found that customers who had low-commitment (in terms of contracts, specifically) with the company had a very high chance of leaving. Also, the company does well with attracting new clients, but not necessarily with longevity of keeping those clients. With this information, it was finally time to move on to model training. It was discovered during EDA that there was a massive class imbalance and there was a good handful of features (which may cause overfitting) - which was carefully considered when choosing the appropriate models. I chose to train LogisticRegression, RandomForest, and a Gradient Boosting model (in that order). Each one performed better than the last. Each model was evaluated with the AUC-ROC and accuracy score metrics, with the best one from the XGB model coming in at 0.93 and 0.89. Final testing with this model produced an AUC-ROC score of 0.91 and an accuracy score of 0.86. The model was doing great at generalizing and working with data it hadn't yet encountered. The sanity check confirmed this and gave confidence that the model was truly learning patterns and was confident in its predictions. I am secure with the decision to be able to present this model to Interconnect for use. This will no doubt be able to assist with pinpointing clients that may be leaving the company and in turn offer services or promotions to keep their satisfaction and loyalty. This will not only benefit the company financially but will also help their reputation and also increase customer experience.  "
   ]
  }
 ],
 "metadata": {
  "kernelspec": {
   "display_name": "Python 3 (ipykernel)",
   "language": "python",
   "name": "python3"
  },
  "language_info": {
   "codemirror_mode": {
    "name": "ipython",
    "version": 3
   },
   "file_extension": ".py",
   "mimetype": "text/x-python",
   "name": "python",
   "nbconvert_exporter": "python",
   "pygments_lexer": "ipython3",
   "version": "3.9.23"
  }
 },
 "nbformat": 4,
 "nbformat_minor": 4
}
