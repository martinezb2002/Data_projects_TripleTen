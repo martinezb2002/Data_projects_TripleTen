{
 "cells": [
  {
   "cell_type": "markdown",
   "metadata": {},
   "source": [
    "Rusty Bargain used car sales service is developing an app to attract new customers. In that app, you can quickly find out the market value of your car. You have access to historical data: technical specifications, trim versions, and prices. You need to build the model to determine the value. \n",
    "\n",
    "Rusty Bargain is interested in:\n",
    "\n",
    "- the quality of the prediction;\n",
    "- the speed of the prediction;\n",
    "- the time required for training"
   ]
  },
  {
   "cell_type": "markdown",
   "metadata": {},
   "source": [
    "## Data preparation"
   ]
  },
  {
   "cell_type": "code",
   "execution_count": 1,
   "metadata": {},
   "outputs": [],
   "source": [
    "import pandas as pd \n",
    "import numpy as np \n",
    "from sklearn.model_selection import train_test_split\n",
    "from sklearn.linear_model import LinearRegression\n",
    "from sklearn.metrics import mean_squared_error \n",
    "from sklearn.tree import DecisionTreeRegressor \n",
    "from sklearn.ensemble import RandomForestRegressor\n",
    "from sklearn.ensemble import RandomForestRegressor\n",
    "import lightgbm as lgb\n",
    "from sklearn.preprocessing import LabelEncoder\n",
    "import time\n",
    "from sklearn.metrics import mean_absolute_error\n",
    "import seaborn as sns\n",
    "import matplotlib.pyplot as plt"
   ]
  },
  {
   "cell_type": "code",
   "execution_count": 2,
   "metadata": {},
   "outputs": [],
   "source": [
    "df = pd.read_csv('/datasets/car_data.csv')"
   ]
  },
  {
   "cell_type": "code",
   "execution_count": 3,
   "metadata": {},
   "outputs": [
    {
     "data": {
      "text/html": [
       "<div>\n",
       "<style scoped>\n",
       "    .dataframe tbody tr th:only-of-type {\n",
       "        vertical-align: middle;\n",
       "    }\n",
       "\n",
       "    .dataframe tbody tr th {\n",
       "        vertical-align: top;\n",
       "    }\n",
       "\n",
       "    .dataframe thead th {\n",
       "        text-align: right;\n",
       "    }\n",
       "</style>\n",
       "<table border=\"1\" class=\"dataframe\">\n",
       "  <thead>\n",
       "    <tr style=\"text-align: right;\">\n",
       "      <th></th>\n",
       "      <th>DateCrawled</th>\n",
       "      <th>Price</th>\n",
       "      <th>VehicleType</th>\n",
       "      <th>RegistrationYear</th>\n",
       "      <th>Gearbox</th>\n",
       "      <th>Power</th>\n",
       "      <th>Model</th>\n",
       "      <th>Mileage</th>\n",
       "      <th>RegistrationMonth</th>\n",
       "      <th>FuelType</th>\n",
       "      <th>Brand</th>\n",
       "      <th>NotRepaired</th>\n",
       "      <th>DateCreated</th>\n",
       "      <th>NumberOfPictures</th>\n",
       "      <th>PostalCode</th>\n",
       "      <th>LastSeen</th>\n",
       "    </tr>\n",
       "  </thead>\n",
       "  <tbody>\n",
       "    <tr>\n",
       "      <th>74779</th>\n",
       "      <td>25/03/2016 20:40</td>\n",
       "      <td>4200</td>\n",
       "      <td>sedan</td>\n",
       "      <td>2003</td>\n",
       "      <td>manual</td>\n",
       "      <td>102</td>\n",
       "      <td>passat</td>\n",
       "      <td>125000</td>\n",
       "      <td>7</td>\n",
       "      <td>petrol</td>\n",
       "      <td>volkswagen</td>\n",
       "      <td>no</td>\n",
       "      <td>25/03/2016 00:00</td>\n",
       "      <td>0</td>\n",
       "      <td>92637</td>\n",
       "      <td>03/04/2016 01:25</td>\n",
       "    </tr>\n",
       "    <tr>\n",
       "      <th>262059</th>\n",
       "      <td>12/03/2016 21:54</td>\n",
       "      <td>900</td>\n",
       "      <td>small</td>\n",
       "      <td>1999</td>\n",
       "      <td>manual</td>\n",
       "      <td>50</td>\n",
       "      <td>arosa</td>\n",
       "      <td>125000</td>\n",
       "      <td>2</td>\n",
       "      <td>petrol</td>\n",
       "      <td>seat</td>\n",
       "      <td>yes</td>\n",
       "      <td>12/03/2016 00:00</td>\n",
       "      <td>0</td>\n",
       "      <td>40789</td>\n",
       "      <td>20/03/2016 03:48</td>\n",
       "    </tr>\n",
       "    <tr>\n",
       "      <th>211714</th>\n",
       "      <td>11/03/2016 09:50</td>\n",
       "      <td>4201</td>\n",
       "      <td>sedan</td>\n",
       "      <td>1989</td>\n",
       "      <td>NaN</td>\n",
       "      <td>160</td>\n",
       "      <td>other</td>\n",
       "      <td>150000</td>\n",
       "      <td>6</td>\n",
       "      <td>petrol</td>\n",
       "      <td>mercedes_benz</td>\n",
       "      <td>no</td>\n",
       "      <td>11/03/2016 00:00</td>\n",
       "      <td>0</td>\n",
       "      <td>97857</td>\n",
       "      <td>16/03/2016 17:20</td>\n",
       "    </tr>\n",
       "    <tr>\n",
       "      <th>191422</th>\n",
       "      <td>15/03/2016 20:45</td>\n",
       "      <td>3399</td>\n",
       "      <td>small</td>\n",
       "      <td>2007</td>\n",
       "      <td>manual</td>\n",
       "      <td>86</td>\n",
       "      <td>ibiza</td>\n",
       "      <td>150000</td>\n",
       "      <td>1</td>\n",
       "      <td>petrol</td>\n",
       "      <td>seat</td>\n",
       "      <td>no</td>\n",
       "      <td>15/03/2016 00:00</td>\n",
       "      <td>0</td>\n",
       "      <td>47803</td>\n",
       "      <td>20/03/2016 19:15</td>\n",
       "    </tr>\n",
       "    <tr>\n",
       "      <th>234618</th>\n",
       "      <td>08/03/2016 17:50</td>\n",
       "      <td>9199</td>\n",
       "      <td>wagon</td>\n",
       "      <td>2007</td>\n",
       "      <td>auto</td>\n",
       "      <td>150</td>\n",
       "      <td>3er</td>\n",
       "      <td>150000</td>\n",
       "      <td>8</td>\n",
       "      <td>petrol</td>\n",
       "      <td>bmw</td>\n",
       "      <td>no</td>\n",
       "      <td>08/03/2016 00:00</td>\n",
       "      <td>0</td>\n",
       "      <td>29525</td>\n",
       "      <td>07/04/2016 08:45</td>\n",
       "    </tr>\n",
       "    <tr>\n",
       "      <th>252404</th>\n",
       "      <td>08/03/2016 02:36</td>\n",
       "      <td>3950</td>\n",
       "      <td>coupe</td>\n",
       "      <td>2009</td>\n",
       "      <td>manual</td>\n",
       "      <td>109</td>\n",
       "      <td>c4</td>\n",
       "      <td>100000</td>\n",
       "      <td>5</td>\n",
       "      <td>petrol</td>\n",
       "      <td>citroen</td>\n",
       "      <td>no</td>\n",
       "      <td>08/03/2016 00:00</td>\n",
       "      <td>0</td>\n",
       "      <td>45879</td>\n",
       "      <td>10/03/2016 18:45</td>\n",
       "    </tr>\n",
       "    <tr>\n",
       "      <th>147147</th>\n",
       "      <td>25/03/2016 20:38</td>\n",
       "      <td>650</td>\n",
       "      <td>wagon</td>\n",
       "      <td>1995</td>\n",
       "      <td>manual</td>\n",
       "      <td>0</td>\n",
       "      <td>passat</td>\n",
       "      <td>150000</td>\n",
       "      <td>2</td>\n",
       "      <td>petrol</td>\n",
       "      <td>volkswagen</td>\n",
       "      <td>no</td>\n",
       "      <td>25/03/2016 00:00</td>\n",
       "      <td>0</td>\n",
       "      <td>48249</td>\n",
       "      <td>28/03/2016 21:19</td>\n",
       "    </tr>\n",
       "    <tr>\n",
       "      <th>23814</th>\n",
       "      <td>11/03/2016 11:49</td>\n",
       "      <td>180</td>\n",
       "      <td>small</td>\n",
       "      <td>1999</td>\n",
       "      <td>manual</td>\n",
       "      <td>65</td>\n",
       "      <td>corsa</td>\n",
       "      <td>150000</td>\n",
       "      <td>0</td>\n",
       "      <td>petrol</td>\n",
       "      <td>opel</td>\n",
       "      <td>yes</td>\n",
       "      <td>11/03/2016 00:00</td>\n",
       "      <td>0</td>\n",
       "      <td>86865</td>\n",
       "      <td>07/04/2016 03:46</td>\n",
       "    </tr>\n",
       "    <tr>\n",
       "      <th>197128</th>\n",
       "      <td>27/03/2016 23:56</td>\n",
       "      <td>5500</td>\n",
       "      <td>small</td>\n",
       "      <td>2012</td>\n",
       "      <td>manual</td>\n",
       "      <td>0</td>\n",
       "      <td>twingo</td>\n",
       "      <td>50000</td>\n",
       "      <td>7</td>\n",
       "      <td>petrol</td>\n",
       "      <td>renault</td>\n",
       "      <td>no</td>\n",
       "      <td>27/03/2016 00:00</td>\n",
       "      <td>0</td>\n",
       "      <td>44652</td>\n",
       "      <td>06/04/2016 09:15</td>\n",
       "    </tr>\n",
       "    <tr>\n",
       "      <th>111746</th>\n",
       "      <td>22/03/2016 19:48</td>\n",
       "      <td>599</td>\n",
       "      <td>small</td>\n",
       "      <td>1999</td>\n",
       "      <td>manual</td>\n",
       "      <td>39</td>\n",
       "      <td>seicento</td>\n",
       "      <td>150000</td>\n",
       "      <td>4</td>\n",
       "      <td>petrol</td>\n",
       "      <td>fiat</td>\n",
       "      <td>no</td>\n",
       "      <td>22/03/2016 00:00</td>\n",
       "      <td>0</td>\n",
       "      <td>32052</td>\n",
       "      <td>24/03/2016 04:17</td>\n",
       "    </tr>\n",
       "  </tbody>\n",
       "</table>\n",
       "</div>"
      ],
      "text/plain": [
       "             DateCrawled  Price VehicleType  RegistrationYear Gearbox  Power  \\\n",
       "74779   25/03/2016 20:40   4200       sedan              2003  manual    102   \n",
       "262059  12/03/2016 21:54    900       small              1999  manual     50   \n",
       "211714  11/03/2016 09:50   4201       sedan              1989     NaN    160   \n",
       "191422  15/03/2016 20:45   3399       small              2007  manual     86   \n",
       "234618  08/03/2016 17:50   9199       wagon              2007    auto    150   \n",
       "252404  08/03/2016 02:36   3950       coupe              2009  manual    109   \n",
       "147147  25/03/2016 20:38    650       wagon              1995  manual      0   \n",
       "23814   11/03/2016 11:49    180       small              1999  manual     65   \n",
       "197128  27/03/2016 23:56   5500       small              2012  manual      0   \n",
       "111746  22/03/2016 19:48    599       small              1999  manual     39   \n",
       "\n",
       "           Model  Mileage  RegistrationMonth FuelType          Brand  \\\n",
       "74779     passat   125000                  7   petrol     volkswagen   \n",
       "262059     arosa   125000                  2   petrol           seat   \n",
       "211714     other   150000                  6   petrol  mercedes_benz   \n",
       "191422     ibiza   150000                  1   petrol           seat   \n",
       "234618       3er   150000                  8   petrol            bmw   \n",
       "252404        c4   100000                  5   petrol        citroen   \n",
       "147147    passat   150000                  2   petrol     volkswagen   \n",
       "23814      corsa   150000                  0   petrol           opel   \n",
       "197128    twingo    50000                  7   petrol        renault   \n",
       "111746  seicento   150000                  4   petrol           fiat   \n",
       "\n",
       "       NotRepaired       DateCreated  NumberOfPictures  PostalCode  \\\n",
       "74779           no  25/03/2016 00:00                 0       92637   \n",
       "262059         yes  12/03/2016 00:00                 0       40789   \n",
       "211714          no  11/03/2016 00:00                 0       97857   \n",
       "191422          no  15/03/2016 00:00                 0       47803   \n",
       "234618          no  08/03/2016 00:00                 0       29525   \n",
       "252404          no  08/03/2016 00:00                 0       45879   \n",
       "147147          no  25/03/2016 00:00                 0       48249   \n",
       "23814          yes  11/03/2016 00:00                 0       86865   \n",
       "197128          no  27/03/2016 00:00                 0       44652   \n",
       "111746          no  22/03/2016 00:00                 0       32052   \n",
       "\n",
       "                LastSeen  \n",
       "74779   03/04/2016 01:25  \n",
       "262059  20/03/2016 03:48  \n",
       "211714  16/03/2016 17:20  \n",
       "191422  20/03/2016 19:15  \n",
       "234618  07/04/2016 08:45  \n",
       "252404  10/03/2016 18:45  \n",
       "147147  28/03/2016 21:19  \n",
       "23814   07/04/2016 03:46  \n",
       "197128  06/04/2016 09:15  \n",
       "111746  24/03/2016 04:17  "
      ]
     },
     "execution_count": 3,
     "metadata": {},
     "output_type": "execute_result"
    }
   ],
   "source": [
    "df.sample(10)"
   ]
  },
  {
   "cell_type": "code",
   "execution_count": 4,
   "metadata": {},
   "outputs": [
    {
     "name": "stdout",
     "output_type": "stream",
     "text": [
      "<class 'pandas.core.frame.DataFrame'>\n",
      "RangeIndex: 354369 entries, 0 to 354368\n",
      "Data columns (total 16 columns):\n",
      " #   Column             Non-Null Count   Dtype \n",
      "---  ------             --------------   ----- \n",
      " 0   DateCrawled        354369 non-null  object\n",
      " 1   Price              354369 non-null  int64 \n",
      " 2   VehicleType        316879 non-null  object\n",
      " 3   RegistrationYear   354369 non-null  int64 \n",
      " 4   Gearbox            334536 non-null  object\n",
      " 5   Power              354369 non-null  int64 \n",
      " 6   Model              334664 non-null  object\n",
      " 7   Mileage            354369 non-null  int64 \n",
      " 8   RegistrationMonth  354369 non-null  int64 \n",
      " 9   FuelType           321474 non-null  object\n",
      " 10  Brand              354369 non-null  object\n",
      " 11  NotRepaired        283215 non-null  object\n",
      " 12  DateCreated        354369 non-null  object\n",
      " 13  NumberOfPictures   354369 non-null  int64 \n",
      " 14  PostalCode         354369 non-null  int64 \n",
      " 15  LastSeen           354369 non-null  object\n",
      "dtypes: int64(7), object(9)\n",
      "memory usage: 43.3+ MB\n"
     ]
    }
   ],
   "source": [
    "df.info()"
   ]
  },
  {
   "cell_type": "markdown",
   "metadata": {},
   "source": [
    "The dtypes and basic information looks mostly good aside from the indication of some missing values. Based on the goal of the project, no dtypes need to be changed. I'll then start looking deeper into the missing values and possible duplicates. I will also remove unnecessary features to avoid overfitting."
   ]
  },
  {
   "cell_type": "code",
   "execution_count": 5,
   "metadata": {},
   "outputs": [],
   "source": [
    "# removing extra non-essential features\n",
    "# df = df.drop(columns=['LastSeen', 'RegistrationMonth', 'PostalCode', 'NumberOfPictures', 'VehicleType', 'Brand']) \n",
    "columns_to_drop = ['DateCrawled', 'DateCreated', 'LastSeen', 'RegistrationMonth', 'PostalCode', \n",
    "                   'NumberOfPictures', 'VehicleType', 'Brand']\n",
    "\n",
    "df = df.drop(columns=columns_to_drop)"
   ]
  },
  {
   "cell_type": "code",
   "execution_count": 6,
   "metadata": {},
   "outputs": [
    {
     "data": {
      "text/plain": [
       "54196"
      ]
     },
     "execution_count": 6,
     "metadata": {},
     "output_type": "execute_result"
    }
   ],
   "source": [
    "df.duplicated().sum()"
   ]
  },
  {
   "cell_type": "code",
   "execution_count": 7,
   "metadata": {},
   "outputs": [],
   "source": [
    "# dropping the duplicates since there is not a massive amount and it is unlikely that it will damage the integrity of the data\n",
    "df = df.drop_duplicates().reset_index(drop=True)  "
   ]
  },
  {
   "cell_type": "code",
   "execution_count": 8,
   "metadata": {},
   "outputs": [
    {
     "data": {
      "text/plain": [
       "0"
      ]
     },
     "execution_count": 8,
     "metadata": {},
     "output_type": "execute_result"
    }
   ],
   "source": [
    "# verifying changes \n",
    "df.duplicated().sum()"
   ]
  },
  {
   "cell_type": "code",
   "execution_count": 9,
   "metadata": {},
   "outputs": [
    {
     "data": {
      "text/plain": [
       "Price                   0\n",
       "RegistrationYear        0\n",
       "Gearbox             16471\n",
       "Power                   0\n",
       "Model               17316\n",
       "Mileage                 0\n",
       "FuelType            29977\n",
       "NotRepaired         62820\n",
       "dtype: int64"
      ]
     },
     "execution_count": 9,
     "metadata": {},
     "output_type": "execute_result"
    }
   ],
   "source": [
    "df.isna().sum()"
   ]
  },
  {
   "cell_type": "markdown",
   "metadata": {},
   "source": [
    "There's a great amount of missing values in a good amount of features. Since they contribute to a decent percentage of the data, I will opt not to remove them but instead to fill them with 'missing'. This then indicates that the value is not available while also maintaining the most amount of data integrity possible. "
   ]
  },
  {
   "cell_type": "code",
   "execution_count": 10,
   "metadata": {},
   "outputs": [],
   "source": [
    "# imputing missing values with 'missing'\n",
    "categorical_cols = ['Gearbox', 'Model', 'FuelType', 'NotRepaired']\n",
    "df[categorical_cols] = df[categorical_cols].fillna('missing') "
   ]
  },
  {
   "cell_type": "code",
   "execution_count": 11,
   "metadata": {},
   "outputs": [
    {
     "data": {
      "text/plain": [
       "0"
      ]
     },
     "execution_count": 11,
     "metadata": {},
     "output_type": "execute_result"
    }
   ],
   "source": [
    "# verifying changes\n",
    "df.duplicated().sum()"
   ]
  },
  {
   "cell_type": "code",
   "execution_count": 12,
   "metadata": {},
   "outputs": [
    {
     "data": {
      "text/html": [
       "<div>\n",
       "<style scoped>\n",
       "    .dataframe tbody tr th:only-of-type {\n",
       "        vertical-align: middle;\n",
       "    }\n",
       "\n",
       "    .dataframe tbody tr th {\n",
       "        vertical-align: top;\n",
       "    }\n",
       "\n",
       "    .dataframe thead th {\n",
       "        text-align: right;\n",
       "    }\n",
       "</style>\n",
       "<table border=\"1\" class=\"dataframe\">\n",
       "  <thead>\n",
       "    <tr style=\"text-align: right;\">\n",
       "      <th></th>\n",
       "      <th>Price</th>\n",
       "      <th>RegistrationYear</th>\n",
       "      <th>Power</th>\n",
       "      <th>Mileage</th>\n",
       "    </tr>\n",
       "  </thead>\n",
       "  <tbody>\n",
       "    <tr>\n",
       "      <th>count</th>\n",
       "      <td>300173.000000</td>\n",
       "      <td>300173.000000</td>\n",
       "      <td>300173.000000</td>\n",
       "      <td>300173.000000</td>\n",
       "    </tr>\n",
       "    <tr>\n",
       "      <th>mean</th>\n",
       "      <td>4531.414098</td>\n",
       "      <td>2004.387377</td>\n",
       "      <td>111.437061</td>\n",
       "      <td>126821.133147</td>\n",
       "    </tr>\n",
       "    <tr>\n",
       "      <th>std</th>\n",
       "      <td>4584.184663</td>\n",
       "      <td>90.432629</td>\n",
       "      <td>203.732378</td>\n",
       "      <td>38707.352570</td>\n",
       "    </tr>\n",
       "    <tr>\n",
       "      <th>min</th>\n",
       "      <td>0.000000</td>\n",
       "      <td>1000.000000</td>\n",
       "      <td>0.000000</td>\n",
       "      <td>5000.000000</td>\n",
       "    </tr>\n",
       "    <tr>\n",
       "      <th>25%</th>\n",
       "      <td>1100.000000</td>\n",
       "      <td>1999.000000</td>\n",
       "      <td>69.000000</td>\n",
       "      <td>125000.000000</td>\n",
       "    </tr>\n",
       "    <tr>\n",
       "      <th>50%</th>\n",
       "      <td>2800.000000</td>\n",
       "      <td>2003.000000</td>\n",
       "      <td>105.000000</td>\n",
       "      <td>150000.000000</td>\n",
       "    </tr>\n",
       "    <tr>\n",
       "      <th>75%</th>\n",
       "      <td>6500.000000</td>\n",
       "      <td>2008.000000</td>\n",
       "      <td>143.000000</td>\n",
       "      <td>150000.000000</td>\n",
       "    </tr>\n",
       "    <tr>\n",
       "      <th>max</th>\n",
       "      <td>20000.000000</td>\n",
       "      <td>9999.000000</td>\n",
       "      <td>20000.000000</td>\n",
       "      <td>150000.000000</td>\n",
       "    </tr>\n",
       "  </tbody>\n",
       "</table>\n",
       "</div>"
      ],
      "text/plain": [
       "               Price  RegistrationYear          Power        Mileage\n",
       "count  300173.000000     300173.000000  300173.000000  300173.000000\n",
       "mean     4531.414098       2004.387377     111.437061  126821.133147\n",
       "std      4584.184663         90.432629     203.732378   38707.352570\n",
       "min         0.000000       1000.000000       0.000000    5000.000000\n",
       "25%      1100.000000       1999.000000      69.000000  125000.000000\n",
       "50%      2800.000000       2003.000000     105.000000  150000.000000\n",
       "75%      6500.000000       2008.000000     143.000000  150000.000000\n",
       "max     20000.000000       9999.000000   20000.000000  150000.000000"
      ]
     },
     "execution_count": 12,
     "metadata": {},
     "output_type": "execute_result"
    }
   ],
   "source": [
    "df.describe()"
   ]
  },
  {
   "cell_type": "markdown",
   "metadata": {},
   "source": [
    "Based on the minimum and maximum values shown for a majority of these features, there are definitely some outliers. "
   ]
  },
  {
   "cell_type": "code",
   "execution_count": 13,
   "metadata": {},
   "outputs": [
    {
     "data": {
      "image/png": "[encoded data removed]",
      "text/plain": [
       "<Figure size 1800x500 with 3 Axes>"
      ]
     },
     "metadata": {},
     "output_type": "display_data"
    }
   ],
   "source": [
    "fig, axes = plt.subplots(1, 3, figsize=(18, 5))\n",
    "\n",
    "sns.boxplot(data=df, x='Price', ax=axes[0])\n",
    "axes[0].set_title('Price')\n",
    "\n",
    "sns.boxplot(data=df, x='Power', ax=axes[1])\n",
    "axes[1].set_title('Power')\n",
    "\n",
    "sns.histplot(data=df, x='RegistrationYear', bins=50, ax=axes[2])\n",
    "axes[2].set_title('Year of Registration')\n",
    "\n",
    "plt.tight_layout()\n",
    "plt.show() "
   ]
  },
  {
   "cell_type": "markdown",
   "metadata": {},
   "source": [
    "These are the three features that - based on the values from '.describe()' - are suspected as having outliers. According to these plots, there are many problems in regards to the integrity of the values present. The RegistrationYear is not indicating a mass amount of errors. However, due to the fact that the years are separated in increments of 2,000, it can be difficult to visualize the borders. The Power feature is showing values over 500 ps, which is simply not realistic for a majority of consumer vehicles. The Price feature is showing some values near 0-1 which is likely inaccurate data. There is also a high amount of extreme outliers in regards to high prices. "
   ]
  },
  {
   "cell_type": "code",
   "execution_count": 14,
   "metadata": {},
   "outputs": [],
   "source": [
    "# filtering out outliers \n",
    "\n",
    "# no cars worth zero or excessive amounts\n",
    "df = df[(df['Price'] > 100) & (df['Price'] < 150000)]\n",
    "\n",
    "# most cars are under 500 PS\n",
    "df = df[(df['Power'] > 10) & (df['Power'] < 500)]\n",
    "\n",
    "# reasonable registration years\n",
    "df = df[(df['RegistrationYear'] >= 1990) & (df['RegistrationYear'] <= 2023)] "
   ]
  },
  {
   "cell_type": "code",
   "execution_count": 15,
   "metadata": {},
   "outputs": [
    {
     "data": {
      "text/html": [
       "<div>\n",
       "<style scoped>\n",
       "    .dataframe tbody tr th:only-of-type {\n",
       "        vertical-align: middle;\n",
       "    }\n",
       "\n",
       "    .dataframe tbody tr th {\n",
       "        vertical-align: top;\n",
       "    }\n",
       "\n",
       "    .dataframe thead th {\n",
       "        text-align: right;\n",
       "    }\n",
       "</style>\n",
       "<table border=\"1\" class=\"dataframe\">\n",
       "  <thead>\n",
       "    <tr style=\"text-align: right;\">\n",
       "      <th></th>\n",
       "      <th>Price</th>\n",
       "      <th>RegistrationYear</th>\n",
       "      <th>Power</th>\n",
       "      <th>Mileage</th>\n",
       "    </tr>\n",
       "  </thead>\n",
       "  <tbody>\n",
       "    <tr>\n",
       "      <th>count</th>\n",
       "      <td>251044.000000</td>\n",
       "      <td>251044.000000</td>\n",
       "      <td>251044.000000</td>\n",
       "      <td>251044.000000</td>\n",
       "    </tr>\n",
       "    <tr>\n",
       "      <th>mean</th>\n",
       "      <td>4946.451674</td>\n",
       "      <td>2004.046215</td>\n",
       "      <td>121.830229</td>\n",
       "      <td>127414.417393</td>\n",
       "    </tr>\n",
       "    <tr>\n",
       "      <th>std</th>\n",
       "      <td>4643.151876</td>\n",
       "      <td>6.081826</td>\n",
       "      <td>53.446860</td>\n",
       "      <td>37147.871188</td>\n",
       "    </tr>\n",
       "    <tr>\n",
       "      <th>min</th>\n",
       "      <td>101.000000</td>\n",
       "      <td>1990.000000</td>\n",
       "      <td>11.000000</td>\n",
       "      <td>5000.000000</td>\n",
       "    </tr>\n",
       "    <tr>\n",
       "      <th>25%</th>\n",
       "      <td>1400.000000</td>\n",
       "      <td>2000.000000</td>\n",
       "      <td>80.000000</td>\n",
       "      <td>125000.000000</td>\n",
       "    </tr>\n",
       "    <tr>\n",
       "      <th>50%</th>\n",
       "      <td>3299.000000</td>\n",
       "      <td>2004.000000</td>\n",
       "      <td>115.000000</td>\n",
       "      <td>150000.000000</td>\n",
       "    </tr>\n",
       "    <tr>\n",
       "      <th>75%</th>\n",
       "      <td>7000.000000</td>\n",
       "      <td>2008.000000</td>\n",
       "      <td>150.000000</td>\n",
       "      <td>150000.000000</td>\n",
       "    </tr>\n",
       "    <tr>\n",
       "      <th>max</th>\n",
       "      <td>20000.000000</td>\n",
       "      <td>2019.000000</td>\n",
       "      <td>490.000000</td>\n",
       "      <td>150000.000000</td>\n",
       "    </tr>\n",
       "  </tbody>\n",
       "</table>\n",
       "</div>"
      ],
      "text/plain": [
       "               Price  RegistrationYear          Power        Mileage\n",
       "count  251044.000000     251044.000000  251044.000000  251044.000000\n",
       "mean     4946.451674       2004.046215     121.830229  127414.417393\n",
       "std      4643.151876          6.081826      53.446860   37147.871188\n",
       "min       101.000000       1990.000000      11.000000    5000.000000\n",
       "25%      1400.000000       2000.000000      80.000000  125000.000000\n",
       "50%      3299.000000       2004.000000     115.000000  150000.000000\n",
       "75%      7000.000000       2008.000000     150.000000  150000.000000\n",
       "max     20000.000000       2019.000000     490.000000  150000.000000"
      ]
     },
     "execution_count": 15,
     "metadata": {},
     "output_type": "execute_result"
    }
   ],
   "source": [
    "df.describe()"
   ]
  },
  {
   "cell_type": "code",
   "execution_count": 16,
   "metadata": {},
   "outputs": [
    {
     "data": {
      "text/plain": [
       "0"
      ]
     },
     "execution_count": 16,
     "metadata": {},
     "output_type": "execute_result"
    }
   ],
   "source": [
    "df.duplicated().sum()"
   ]
  },
  {
   "cell_type": "markdown",
   "metadata": {},
   "source": [
    "Data is cleaned and ready for processing."
   ]
  },
  {
   "cell_type": "markdown",
   "metadata": {},
   "source": [
    "## Model training"
   ]
  },
  {
   "cell_type": "code",
   "execution_count": 17,
   "metadata": {},
   "outputs": [],
   "source": [
    "# define target and features \n",
    "X = df.drop(columns='Price')\n",
    "y = df['Price'] "
   ]
  },
  {
   "cell_type": "markdown",
   "metadata": {},
   "source": [
    "Using ordinal encoding since even though it is not the most optimal, it allows the full dataset to be used; maintaining as much data integrity as possible."
   ]
  },
  {
   "cell_type": "code",
   "execution_count": 19,
   "metadata": {},
   "outputs": [],
   "source": [
    "# splitting the data - 60train/20valid/20test\n",
    "X_temp, X_test, y_temp, y_test = train_test_split(X, y, test_size=0.2, random_state=42)\n",
    "X_train, X_valid, y_train, y_valid = train_test_split(X_temp, y_temp, test_size=0.25, random_state=42)"
   ]
  },
  {
   "cell_type": "code",
   "execution_count": 21,
   "metadata": {},
   "outputs": [],
   "source": [
    "# getting all categorical columns\n",
    "categorical_cols = X_train.select_dtypes(include='object').columns\n",
    "\n",
    "encoders = {}\n",
    "X_train_encoded = X_train.copy()\n",
    "X_valid_encoded = X_valid.copy()\n",
    "X_test_encoded = X_test.copy()\n",
    "\n",
    "for col in categorical_cols:\n",
    "    le = LabelEncoder()\n",
    "    X_train_encoded[col] = le.fit_transform(X_train[col].astype(str))\n",
    "    \n",
    "    def safe_transform(values, encoder):\n",
    "        most_frequent = encoder.classes_[0]  \n",
    "        return [val if val in encoder.classes_ else most_frequent for val in values]\n",
    "    \n",
    "    X_valid_encoded[col] = le.transform(safe_transform(X_valid[col].astype(str), le))\n",
    "    X_test_encoded[col] = le.transform(safe_transform(X_test[col].astype(str), le)) "
   ]
  },
  {
   "cell_type": "markdown",
   "metadata": {},
   "source": [
    "Although this is the first model being trained, we can tell without any other comparison that its RMSE is extremely high and just not suitable in any way for actual data from Rusty Bargain. Let's try another."
   ]
  },
  {
   "cell_type": "code",
   "execution_count": 24,
   "metadata": {},
   "outputs": [
    {
     "data": {
      "text/plain": [
       "('Decision Tree RMSE:', 2032.687133029411)"
      ]
     },
     "execution_count": 24,
     "metadata": {},
     "output_type": "execute_result"
    }
   ],
   "source": [
    "# decision tree model \n",
    "dt = DecisionTreeRegressor(max_depth=10, random_state=42)\n",
    "dt.fit(X_train_encoded, y_train)\n",
    "preds_dt = dt.predict(X_valid_encoded)\n",
    "rmse_dt = mean_squared_error(y_valid, preds_dt, squared=False)\n",
    "\"Decision Tree RMSE:\", rmse_dt"
   ]
  },
  {
   "cell_type": "markdown",
   "metadata": {},
   "source": [
    "This RMSE is not too bad, being the first model being trained, I wonder if the others below will outperform this one. "
   ]
  },
  {
   "cell_type": "code",
   "execution_count": 25,
   "metadata": {},
   "outputs": [
    {
     "data": {
      "text/plain": [
       "('Random Forest RMSE:', 1953.7471864554054)"
      ]
     },
     "execution_count": 25,
     "metadata": {},
     "output_type": "execute_result"
    }
   ],
   "source": [
    "# random forest model \n",
    "rf = RandomForestRegressor(n_estimators=100, max_depth=10, random_state=42, n_jobs=-1)\n",
    "rf.fit(X_train_encoded, y_train)\n",
    "preds_rf = rf.predict(X_valid_encoded)\n",
    "rmse_rf = mean_squared_error(y_valid, preds_rf, squared=False)\n",
    "\"Random Forest RMSE:\", rmse_rf"
   ]
  },
  {
   "cell_type": "markdown",
   "metadata": {},
   "source": [
    "This is our model with the best accuracy so far, relatively close to the Decision Tree score but still with good improvement. Let's see if gradient boosting makes any difference."
   ]
  },
  {
   "cell_type": "code",
   "execution_count": 26,
   "metadata": {},
   "outputs": [],
   "source": [
    "lgb_train = lgb.Dataset(X_train_encoded, label=y_train)\n",
    "lgb_valid = lgb.Dataset(X_valid_encoded, label=y_valid, reference=lgb_train)\n",
    "\n",
    "params = {\n",
    "    'objective': 'regression',\n",
    "    'metric': 'rmse',\n",
    "    'learning_rate': 0.1,\n",
    "    'max_depth': 7,\n",
    "    'verbose': -1\n",
    "} "
   ]
  },
  {
   "cell_type": "code",
   "execution_count": 27,
   "metadata": {
    "scrolled": true
   },
   "outputs": [
    {
     "name": "stderr",
     "output_type": "stream",
     "text": [
      "/.venv/lib/python3.9/site-packages/lightgbm/engine.py:181: UserWarning: 'early_stopping_rounds' argument is deprecated and will be removed in a future release of LightGBM. Pass 'early_stopping()' callback via 'callbacks' argument instead.\n",
      "  _log_warning(\"'early_stopping_rounds' argument is deprecated and will be removed in a future release of LightGBM. \"\n"
     ]
    },
    {
     "name": "stdout",
     "output_type": "stream",
     "text": [
      "[1]\tvalid_0's rmse: 4318.97\n",
      "Training until validation scores don't improve for 20 rounds\n",
      "[2]\tvalid_0's rmse: 4024.93\n",
      "[3]\tvalid_0's rmse: 3767.46\n",
      "[4]\tvalid_0's rmse: 3541.75\n",
      "[5]\tvalid_0's rmse: 3341.37\n",
      "[6]\tvalid_0's rmse: 3167.26\n",
      "[7]\tvalid_0's rmse: 3017.33\n",
      "[8]\tvalid_0's rmse: 2884.22\n",
      "[9]\tvalid_0's rmse: 2765.36\n",
      "[10]\tvalid_0's rmse: 2662.76\n",
      "[11]\tvalid_0's rmse: 2574.41\n",
      "[12]\tvalid_0's rmse: 2499.03\n",
      "[13]\tvalid_0's rmse: 2434.7\n",
      "[14]\tvalid_0's rmse: 2375.97\n",
      "[15]\tvalid_0's rmse: 2327.05\n",
      "[16]\tvalid_0's rmse: 2283.02\n",
      "[17]\tvalid_0's rmse: 2243.75\n",
      "[18]\tvalid_0's rmse: 2211.69\n",
      "[19]\tvalid_0's rmse: 2182.58\n",
      "[20]\tvalid_0's rmse: 2155.37\n",
      "[21]\tvalid_0's rmse: 2131.32\n",
      "[22]\tvalid_0's rmse: 2111.51\n",
      "[23]\tvalid_0's rmse: 2094.19\n",
      "[24]\tvalid_0's rmse: 2075.64\n",
      "[25]\tvalid_0's rmse: 2060.53\n",
      "[26]\tvalid_0's rmse: 2047.07\n",
      "[27]\tvalid_0's rmse: 2032.53\n",
      "[28]\tvalid_0's rmse: 2023.02\n",
      "[29]\tvalid_0's rmse: 2011.63\n",
      "[30]\tvalid_0's rmse: 2002.23\n",
      "[31]\tvalid_0's rmse: 1992.51\n",
      "[32]\tvalid_0's rmse: 1985.57\n",
      "[33]\tvalid_0's rmse: 1979.2\n",
      "[34]\tvalid_0's rmse: 1971.45\n",
      "[35]\tvalid_0's rmse: 1966.74\n",
      "[36]\tvalid_0's rmse: 1960.03\n",
      "[37]\tvalid_0's rmse: 1955.64\n",
      "[38]\tvalid_0's rmse: 1950.07\n",
      "[39]\tvalid_0's rmse: 1945.95\n",
      "[40]\tvalid_0's rmse: 1940.68\n",
      "[41]\tvalid_0's rmse: 1937.03\n",
      "[42]\tvalid_0's rmse: 1932.92\n",
      "[43]\tvalid_0's rmse: 1930.04\n",
      "[44]\tvalid_0's rmse: 1925.08\n",
      "[45]\tvalid_0's rmse: 1920.31\n",
      "[46]\tvalid_0's rmse: 1917.22\n",
      "[47]\tvalid_0's rmse: 1912.94\n",
      "[48]\tvalid_0's rmse: 1907.27\n",
      "[49]\tvalid_0's rmse: 1903.53\n",
      "[50]\tvalid_0's rmse: 1901.42\n",
      "[51]\tvalid_0's rmse: 1896.7\n",
      "[52]\tvalid_0's rmse: 1892.44\n",
      "[53]\tvalid_0's rmse: 1890.26\n",
      "[54]\tvalid_0's rmse: 1886.94\n",
      "[55]\tvalid_0's rmse: 1884.55\n",
      "[56]\tvalid_0's rmse: 1880.32\n",
      "[57]\tvalid_0's rmse: 1879.03\n",
      "[58]\tvalid_0's rmse: 1876.05\n",
      "[59]\tvalid_0's rmse: 1874.2\n",
      "[60]\tvalid_0's rmse: 1872.77\n",
      "[61]\tvalid_0's rmse: 1869.75\n",
      "[62]\tvalid_0's rmse: 1867.93\n",
      "[63]\tvalid_0's rmse: 1864.66\n",
      "[64]\tvalid_0's rmse: 1862.42\n",
      "[65]\tvalid_0's rmse: 1860.14\n",
      "[66]\tvalid_0's rmse: 1858.11\n",
      "[67]\tvalid_0's rmse: 1855.32\n",
      "[68]\tvalid_0's rmse: 1854.24\n",
      "[69]\tvalid_0's rmse: 1852.38\n",
      "[70]\tvalid_0's rmse: 1851.21\n",
      "[71]\tvalid_0's rmse: 1847.8\n",
      "[72]\tvalid_0's rmse: 1846.87\n",
      "[73]\tvalid_0's rmse: 1843.9\n",
      "[74]\tvalid_0's rmse: 1842.38\n",
      "[75]\tvalid_0's rmse: 1841.8\n",
      "[76]\tvalid_0's rmse: 1841.14\n",
      "[77]\tvalid_0's rmse: 1840.35\n",
      "[78]\tvalid_0's rmse: 1838.23\n",
      "[79]\tvalid_0's rmse: 1835.34\n",
      "[80]\tvalid_0's rmse: 1834.77\n",
      "[81]\tvalid_0's rmse: 1834.07\n",
      "[82]\tvalid_0's rmse: 1832.52\n",
      "[83]\tvalid_0's rmse: 1831.67\n",
      "[84]\tvalid_0's rmse: 1829.99\n",
      "[85]\tvalid_0's rmse: 1829.58\n",
      "[86]\tvalid_0's rmse: 1829.08\n",
      "[87]\tvalid_0's rmse: 1826.14\n",
      "[88]\tvalid_0's rmse: 1825.54\n",
      "[89]\tvalid_0's rmse: 1824.95\n",
      "[90]\tvalid_0's rmse: 1822.74\n",
      "[91]\tvalid_0's rmse: 1821.47\n",
      "[92]\tvalid_0's rmse: 1820.12\n",
      "[93]\tvalid_0's rmse: 1818.98\n",
      "[94]\tvalid_0's rmse: 1817.58\n",
      "[95]\tvalid_0's rmse: 1816.87\n",
      "[96]\tvalid_0's rmse: 1815.6\n",
      "[97]\tvalid_0's rmse: 1813.94\n",
      "[98]\tvalid_0's rmse: 1813.09\n",
      "[99]\tvalid_0's rmse: 1810.25\n",
      "[100]\tvalid_0's rmse: 1808.66\n",
      "Did not meet early stopping. Best iteration is:\n",
      "[100]\tvalid_0's rmse: 1808.66\n"
     ]
    },
    {
     "data": {
      "text/plain": [
       "('LightGBM RMSE:', 1808.6622263697784)"
      ]
     },
     "execution_count": 27,
     "metadata": {},
     "output_type": "execute_result"
    }
   ],
   "source": [
    "lgb_model = lgb.train(params, lgb_train, valid_sets=[lgb_valid], early_stopping_rounds=20)\n",
    "preds_lgb = lgb_model.predict(X_valid_encoded)\n",
    "rmse_lgb = mean_squared_error(y_valid, preds_lgb, squared=False)\n",
    "\"LightGBM RMSE:\", rmse_lgb"
   ]
  },
  {
   "cell_type": "markdown",
   "metadata": {},
   "source": [
    "The above model is producing the best RMSE score out of all the present models. It's no surprise that the gradient boosting did in fact minimize loss and produce the best model so far. Now, I will proceed with further analyzing the quality and speed of the models. "
   ]
  },
  {
   "cell_type": "markdown",
   "metadata": {},
   "source": [
    "## Model analysis"
   ]
  },
  {
   "cell_type": "markdown",
   "metadata": {},
   "source": [
    "Analyzing the speed of the models. "
   ]
  },
  {
   "cell_type": "code",
   "execution_count": 28,
   "metadata": {},
   "outputs": [
    {
     "name": "stdout",
     "output_type": "stream",
     "text": [
      "Decision Tree Training Time: 0.22264885902404785 seconds\n",
      "Decision Tree Prediction Time: 0.005517005920410156 seconds\n"
     ]
    }
   ],
   "source": [
    "# decision tree speed \n",
    "dt = DecisionTreeRegressor(max_depth=10, random_state=42)\n",
    "start = time.time()\n",
    "dt.fit(X_train_encoded, y_train)\n",
    "end = time.time()\n",
    "print(\"Decision Tree Training Time:\", end - start, \"seconds\")\n",
    "\n",
    "# prediction time \n",
    "start = time.time()\n",
    "_ = dt.predict(X_valid_encoded)\n",
    "end = time.time()\n",
    "print(\"Decision Tree Prediction Time:\", end - start, \"seconds\")"
   ]
  },
  {
   "cell_type": "code",
   "execution_count": 29,
   "metadata": {},
   "outputs": [
    {
     "name": "stdout",
     "output_type": "stream",
     "text": [
      "Random Forest Training Time: 6.581711530685425 seconds\n",
      "Random Forest Prediction Time: 0.21787667274475098 seconds\n"
     ]
    }
   ],
   "source": [
    "# random forest speed\n",
    "rf = RandomForestRegressor(n_estimators=100, max_depth=10, random_state=42, n_jobs=-1)\n",
    "start = time.time()\n",
    "rf.fit(X_train_encoded, y_train)\n",
    "end = time.time()\n",
    "print(\"Random Forest Training Time:\", end - start, \"seconds\") \n",
    "\n",
    "# prediction time \n",
    "start = time.time()\n",
    "_ = rf.predict(X_valid_encoded)\n",
    "end = time.time()\n",
    "print(\"Random Forest Prediction Time:\", end - start, \"seconds\") "
   ]
  },
  {
   "cell_type": "code",
   "execution_count": 30,
   "metadata": {},
   "outputs": [
    {
     "name": "stderr",
     "output_type": "stream",
     "text": [
      "/.venv/lib/python3.9/site-packages/lightgbm/engine.py:181: UserWarning: 'early_stopping_rounds' argument is deprecated and will be removed in a future release of LightGBM. Pass 'early_stopping()' callback via 'callbacks' argument instead.\n",
      "  _log_warning(\"'early_stopping_rounds' argument is deprecated and will be removed in a future release of LightGBM. \"\n"
     ]
    },
    {
     "name": "stdout",
     "output_type": "stream",
     "text": [
      "[1]\tvalid_0's rmse: 4318.97\n",
      "Training until validation scores don't improve for 20 rounds\n",
      "[2]\tvalid_0's rmse: 4024.93\n",
      "[3]\tvalid_0's rmse: 3767.46\n",
      "[4]\tvalid_0's rmse: 3541.75\n",
      "[5]\tvalid_0's rmse: 3341.37\n",
      "[6]\tvalid_0's rmse: 3167.26\n",
      "[7]\tvalid_0's rmse: 3017.33\n",
      "[8]\tvalid_0's rmse: 2884.22\n",
      "[9]\tvalid_0's rmse: 2765.36\n",
      "[10]\tvalid_0's rmse: 2662.76\n",
      "[11]\tvalid_0's rmse: 2574.41\n",
      "[12]\tvalid_0's rmse: 2499.03\n",
      "[13]\tvalid_0's rmse: 2434.7\n",
      "[14]\tvalid_0's rmse: 2375.97\n",
      "[15]\tvalid_0's rmse: 2327.05\n",
      "[16]\tvalid_0's rmse: 2283.02\n",
      "[17]\tvalid_0's rmse: 2243.75\n",
      "[18]\tvalid_0's rmse: 2211.69\n",
      "[19]\tvalid_0's rmse: 2182.58\n",
      "[20]\tvalid_0's rmse: 2155.37\n",
      "[21]\tvalid_0's rmse: 2131.32\n",
      "[22]\tvalid_0's rmse: 2111.51\n",
      "[23]\tvalid_0's rmse: 2094.19\n",
      "[24]\tvalid_0's rmse: 2075.64\n",
      "[25]\tvalid_0's rmse: 2060.53\n",
      "[26]\tvalid_0's rmse: 2047.07\n",
      "[27]\tvalid_0's rmse: 2032.53\n",
      "[28]\tvalid_0's rmse: 2023.02\n",
      "[29]\tvalid_0's rmse: 2011.63\n",
      "[30]\tvalid_0's rmse: 2002.23\n",
      "[31]\tvalid_0's rmse: 1992.51\n",
      "[32]\tvalid_0's rmse: 1985.57\n",
      "[33]\tvalid_0's rmse: 1979.2\n",
      "[34]\tvalid_0's rmse: 1971.45\n",
      "[35]\tvalid_0's rmse: 1966.74\n",
      "[36]\tvalid_0's rmse: 1960.03\n",
      "[37]\tvalid_0's rmse: 1955.64\n",
      "[38]\tvalid_0's rmse: 1950.07\n",
      "[39]\tvalid_0's rmse: 1945.95\n",
      "[40]\tvalid_0's rmse: 1940.68\n",
      "[41]\tvalid_0's rmse: 1937.03\n",
      "[42]\tvalid_0's rmse: 1932.92\n",
      "[43]\tvalid_0's rmse: 1930.04\n",
      "[44]\tvalid_0's rmse: 1925.08\n",
      "[45]\tvalid_0's rmse: 1920.31\n",
      "[46]\tvalid_0's rmse: 1917.22\n",
      "[47]\tvalid_0's rmse: 1912.94\n",
      "[48]\tvalid_0's rmse: 1907.27\n",
      "[49]\tvalid_0's rmse: 1903.53\n",
      "[50]\tvalid_0's rmse: 1901.42\n",
      "[51]\tvalid_0's rmse: 1896.7\n",
      "[52]\tvalid_0's rmse: 1892.44\n",
      "[53]\tvalid_0's rmse: 1890.26\n",
      "[54]\tvalid_0's rmse: 1886.94\n",
      "[55]\tvalid_0's rmse: 1884.55\n",
      "[56]\tvalid_0's rmse: 1880.32\n",
      "[57]\tvalid_0's rmse: 1879.03\n",
      "[58]\tvalid_0's rmse: 1876.05\n",
      "[59]\tvalid_0's rmse: 1874.2\n",
      "[60]\tvalid_0's rmse: 1872.77\n",
      "[61]\tvalid_0's rmse: 1869.75\n",
      "[62]\tvalid_0's rmse: 1867.93\n",
      "[63]\tvalid_0's rmse: 1864.66\n",
      "[64]\tvalid_0's rmse: 1862.42\n",
      "[65]\tvalid_0's rmse: 1860.14\n",
      "[66]\tvalid_0's rmse: 1858.11\n",
      "[67]\tvalid_0's rmse: 1855.32\n",
      "[68]\tvalid_0's rmse: 1854.24\n",
      "[69]\tvalid_0's rmse: 1852.38\n",
      "[70]\tvalid_0's rmse: 1851.21\n",
      "[71]\tvalid_0's rmse: 1847.8\n",
      "[72]\tvalid_0's rmse: 1846.87\n",
      "[73]\tvalid_0's rmse: 1843.9\n",
      "[74]\tvalid_0's rmse: 1842.38\n",
      "[75]\tvalid_0's rmse: 1841.8\n",
      "[76]\tvalid_0's rmse: 1841.14\n",
      "[77]\tvalid_0's rmse: 1840.35\n",
      "[78]\tvalid_0's rmse: 1838.23\n",
      "[79]\tvalid_0's rmse: 1835.34\n",
      "[80]\tvalid_0's rmse: 1834.77\n",
      "[81]\tvalid_0's rmse: 1834.07\n",
      "[82]\tvalid_0's rmse: 1832.52\n",
      "[83]\tvalid_0's rmse: 1831.67\n",
      "[84]\tvalid_0's rmse: 1829.99\n",
      "[85]\tvalid_0's rmse: 1829.58\n",
      "[86]\tvalid_0's rmse: 1829.08\n",
      "[87]\tvalid_0's rmse: 1826.14\n",
      "[88]\tvalid_0's rmse: 1825.54\n",
      "[89]\tvalid_0's rmse: 1824.95\n",
      "[90]\tvalid_0's rmse: 1822.74\n",
      "[91]\tvalid_0's rmse: 1821.47\n",
      "[92]\tvalid_0's rmse: 1820.12\n",
      "[93]\tvalid_0's rmse: 1818.98\n",
      "[94]\tvalid_0's rmse: 1817.58\n",
      "[95]\tvalid_0's rmse: 1816.87\n",
      "[96]\tvalid_0's rmse: 1815.6\n",
      "[97]\tvalid_0's rmse: 1813.94\n",
      "[98]\tvalid_0's rmse: 1813.09\n",
      "[99]\tvalid_0's rmse: 1810.25\n",
      "[100]\tvalid_0's rmse: 1808.66\n",
      "Did not meet early stopping. Best iteration is:\n",
      "[100]\tvalid_0's rmse: 1808.66\n",
      "LightGBM Training Time: 4.83322811126709 seconds\n",
      "LightGBM Prediction Time: 0.2034742832183838 seconds\n"
     ]
    }
   ],
   "source": [
    "# LightGBM speed \n",
    "lgb_train = lgb.Dataset(X_train_encoded, label=y_train, categorical_feature='auto')\n",
    "lgb_valid = lgb.Dataset(X_valid_encoded, label=y_valid, reference=lgb_train)\n",
    "\n",
    "params = {\n",
    "    'objective': 'regression',\n",
    "    'metric': 'rmse',\n",
    "    'learning_rate': 0.1,\n",
    "    'max_depth': 7,\n",
    "    'verbose': -1\n",
    "} \n",
    "\n",
    "\n",
    "start = time.time()\n",
    "lgb_model = lgb.train(params, lgb_train, valid_sets=[lgb_valid], early_stopping_rounds=20)\n",
    "end = time.time()\n",
    "print(\"LightGBM Training Time:\", end - start, \"seconds\")\n",
    "\n",
    "# prediction time\n",
    "start = time.time()\n",
    "_ = lgb_model.predict(X_valid_encoded)\n",
    "end = time.time()\n",
    "print(\"LightGBM Prediction Time:\", end - start, \"seconds\")"
   ]
  },
  {
   "cell_type": "markdown",
   "metadata": {},
   "source": [
    "Here, we can see that the fastest model is by far the Decision Tree model. Both the training and prediction speed far surpassed the speed of the other two models. Contrary to the other quality metrics, the Random Forest came in second with some decent times, and the LightGBM model came in last with the slowest processing speeds. Now it it just a question of what is more important: speed or quality?"
   ]
  },
  {
   "cell_type": "code",
   "execution_count": 31,
   "metadata": {},
   "outputs": [],
   "source": [
    "# finding the MAE of the three models \n",
    "mae_dt = mean_absolute_error(y_valid, preds_dt)\n",
    "mae_rf = mean_absolute_error(y_valid, preds_rf)\n",
    "mae_lgb = mean_absolute_error(y_valid, preds_lgb) "
   ]
  },
  {
   "cell_type": "code",
   "execution_count": 32,
   "metadata": {},
   "outputs": [
    {
     "name": "stdout",
     "output_type": "stream",
     "text": [
      "Decision Tree MAE: 1347.835673349695\n",
      "Random Forest MAE: 1304.934247899388\n",
      "LightGBM MAE: 1191.7389202626237\n"
     ]
    }
   ],
   "source": [
    "print(\"Decision Tree MAE:\", mae_dt)\n",
    "print(\"Random Forest MAE:\", mae_rf)\n",
    "print(\"LightGBM MAE:\", mae_lgb) "
   ]
  },
  {
   "cell_type": "markdown",
   "metadata": {},
   "source": [
    "Considering the goal of these models, this algorithm will be used time and time again by multiple users at once. The performance of this algorithm needs to be at its most convenient if it is to attract and retain customers as the client is hoping for. With that in mind, speed may be prioritized over a lower quality. The Decision Tree is the fastest by far, and thankfully, the quality metrics tell us that the performance is not too bad and can be improved. Therefore, we will move on with our final testing on the Decision Tree model. "
   ]
  },
  {
   "cell_type": "markdown",
   "metadata": {},
   "source": [
    "# Final Testing"
   ]
  },
  {
   "cell_type": "code",
   "execution_count": 33,
   "metadata": {},
   "outputs": [],
   "source": [
    "# final testing with decision tree model \n",
    "dt_preds_test = dt.predict(X_test_encoded)"
   ]
  },
  {
   "cell_type": "code",
   "execution_count": 34,
   "metadata": {},
   "outputs": [],
   "source": [
    "# evaluation metrics \n",
    "rmse_test = mean_squared_error(y_test, dt_preds_test, squared=False)\n",
    "mae_test = mean_absolute_error(y_test, dt_preds_test)"
   ]
  },
  {
   "cell_type": "code",
   "execution_count": 35,
   "metadata": {},
   "outputs": [
    {
     "name": "stdout",
     "output_type": "stream",
     "text": [
      "Decision Tree Test RMSE: 2028.1376885431157\n",
      "Decision Tree Test MAE: 1343.3256596048807\n"
     ]
    }
   ],
   "source": [
    "print(\"Decision Tree Test RMSE:\", rmse_test)\n",
    "print(\"Decision Tree Test MAE:\", mae_test) "
   ]
  },
  {
   "cell_type": "code",
   "execution_count": 36,
   "metadata": {},
   "outputs": [
    {
     "data": {
      "text/plain": [
       "('Decision Tree Test Prediction Time:', 0.005396842956542969, 'seconds')"
      ]
     },
     "execution_count": 36,
     "metadata": {},
     "output_type": "execute_result"
    }
   ],
   "source": [
    "# prediction time of test set \n",
    "start = time.time()\n",
    "_ = dt.predict(X_test_encoded)\n",
    "end = time.time()\n",
    "\n",
    "\"Decision Tree Test Prediction Time:\", end - start, \"seconds\""
   ]
  },
  {
   "cell_type": "markdown",
   "metadata": {},
   "source": [
    "The metrics and evaluation speeds from this final testing with the Decision Tree tell us that the model does well with with new data and does a good job of making fast and rasonably accurate predictions. Although there were models that were slightly more accurate, this model does a good job of balancing that interpretability of predictions and speed. This is what makes it a great choice for Rusty Bargain."
   ]
  },
  {
   "cell_type": "markdown",
   "metadata": {},
   "source": [
    "As expected, the LightGBM model has the lowest MAE score, suggesting the best predictive quality of the three models. With the rest of the scores being consistent with the previous findings, we have security in the choice of moving forward with the LightGBM model."
   ]
  },
  {
   "cell_type": "markdown",
   "metadata": {},
   "source": [
    "# Final Conclusion"
   ]
  },
  {
   "cell_type": "markdown",
   "metadata": {},
   "source": [
    "Tasked with helping Rusty Bargain develop an app that will assist customers in finding the market value of their car, the primary focus of this project was model training and performance. Upon loading the data, there was little to no alterations that needed to be conducted. Some features were removed, as they were unimportant in determining the price through our machine learning models. With that, it was also found that there were a great many outliers in a small handful of features, which were quickly fixed so as not to skew the data while being trained. Finally, aside from some missing values and some duplicates that were easily handled, the data was ready for training and analysis. Moving onto the main portion of this project, I moved forward with training three models - Random Forest, Decision Tree, and LightGBM. When comparing the three models, I used the RMSE and MAE quality metrics, while also testing the training speed (in seconds) as well as the prediction speed. For RMSE, the LightGBM model performed the best, closely followed by the Random Forest model. In regards to the MAE, the trend was the same. The LightGBM model was performing the best, followed by the Random Forest model. But looking at the processing speed of the various models, it was found that the Decision Tree had performed the fastest, very obvioulsy outperforming the other two models in this aspect. The LightGBM model, which was the front runner until this point, came in last with a comparatively slow processing speeds. Seeing as though this algorithm will be used by customers on a constant basis, speed is a major component when choosing which model to move forward with. So I proceeded to use the DecisionTree model for final testing. Here it wwas found that the model has a good balance of quality and speed, which can be improved in the future. Based on this information as a whole, I can only suggest that Rusty Bargain take use of the DecisionTree model as it is the most rounded in terms of quality and speed. This will be the most effective in assisting them with their app which will undoubtedly attract new customers and retain current ones. "
   ]
  }
 ],
 "metadata": {
  "kernelspec": {
   "display_name": "Python 3 (ipykernel)",
   "language": "python",
   "name": "python3"
  },
  "language_info": {
   "codemirror_mode": {
    "name": "ipython",
    "version": 3
   },
   "file_extension": ".py",
   "mimetype": "text/x-python",
   "name": "python",
   "nbconvert_exporter": "python",
   "pygments_lexer": "ipython3",
   "version": "3.9.23"
  }
 },
 "nbformat": 4,
 "nbformat_minor": 4
}
